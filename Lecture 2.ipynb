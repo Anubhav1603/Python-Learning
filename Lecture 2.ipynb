{
 "cells": [
  {
   "cell_type": "code",
   "execution_count": 1,
   "id": "6f9a74f0",
   "metadata": {},
   "outputs": [
    {
     "name": "stdout",
     "output_type": "stream",
     "text": [
      "*********\n",
      " *******\n",
      "  *****\n",
      "   ***\n",
      "    *\n"
     ]
    }
   ],
   "source": [
    "rows = 5\n",
    "spaces = 0\n",
    "print_count = 2* rows -1\n",
    "for i in range(rows):\n",
    "    for j in range(spaces):\n",
    "        print(end=' ')\n",
    "    spaces = spaces+1\n",
    "    for j in range(print_count):\n",
    "        print(\"*\",end='')\n",
    "    print_count = print_count-2\n",
    "    print()"
   ]
  },
  {
   "cell_type": "code",
   "execution_count": 2,
   "id": "0b752487",
   "metadata": {},
   "outputs": [
    {
     "name": "stdout",
     "output_type": "stream",
     "text": [
      "*******************\n",
      " *****************\n",
      "  ***************\n",
      "   *************\n",
      "    ***********\n",
      "     *********\n",
      "      *******\n",
      "       *****\n",
      "        ***\n",
      "         *\n"
     ]
    }
   ],
   "source": [
    "rows = 10\n",
    "spaces = 0\n",
    "print_count = 2* rows -1\n",
    "for i in range(rows):\n",
    "    for j in range(spaces):\n",
    "        print(end=' ')\n",
    "    spaces = spaces+1\n",
    "    for j in range(print_count):\n",
    "        print(\"*\",end='')\n",
    "    print_count = print_count-2\n",
    "    print()"
   ]
  },
  {
   "cell_type": "code",
   "execution_count": 3,
   "id": "b63ca085",
   "metadata": {},
   "outputs": [
    {
     "name": "stdout",
     "output_type": "stream",
     "text": [
      "000000000\n",
      " 1111111\n",
      "  22222\n",
      "   333\n",
      "    4\n"
     ]
    }
   ],
   "source": [
    "rows = 5\n",
    "spaces = 0\n",
    "print_count = 2* rows -1\n",
    "for i in range(rows):\n",
    "    for j in range(spaces):\n",
    "        print(end=' ')\n",
    "    spaces = spaces+1\n",
    "    for j in range(print_count):\n",
    "        print(i,end='')\n",
    "    print_count = print_count-2\n",
    "    print()"
   ]
  },
  {
   "cell_type": "code",
   "execution_count": 4,
   "id": "9ac67e20",
   "metadata": {},
   "outputs": [
    {
     "name": "stdout",
     "output_type": "stream",
     "text": [
      "012345678\n",
      " 0123456\n",
      "  01234\n",
      "   012\n",
      "    0\n"
     ]
    }
   ],
   "source": [
    "rows = 5\n",
    "spaces = 0\n",
    "print_count = 2* rows -1\n",
    "for i in range(rows):\n",
    "    for j in range(spaces):\n",
    "        print(end=' ')\n",
    "    spaces = spaces+1\n",
    "    for j in range(print_count):\n",
    "        print(j,end='')\n",
    "    print_count = print_count-2\n",
    "    print()"
   ]
  },
  {
   "cell_type": "code",
   "execution_count": 5,
   "id": "f46cc332",
   "metadata": {},
   "outputs": [
    {
     "name": "stdout",
     "output_type": "stream",
     "text": [
      "AAAAAAAAA\n",
      " AAAAAAA\n",
      "  AAAAA\n",
      "   AAA\n",
      "    A\n"
     ]
    }
   ],
   "source": [
    "rows = 5\n",
    "spaces = 0\n",
    "print_count = 2* rows -1\n",
    "count =65\n",
    "for i in range(rows):\n",
    "    for j in range(spaces):\n",
    "        print(end=' ')\n",
    "    spaces = spaces+1\n",
    "    for j in range(print_count):\n",
    "        print(chr(count),end='')\n",
    "    print_count = print_count-2\n",
    "    print()"
   ]
  },
  {
   "cell_type": "code",
   "execution_count": 6,
   "id": "cbc25aea",
   "metadata": {},
   "outputs": [
    {
     "name": "stdout",
     "output_type": "stream",
     "text": [
      "AAAAAAAAA\n",
      " BBBBBBB\n",
      "  CCCCC\n",
      "   DDD\n",
      "    E\n"
     ]
    }
   ],
   "source": [
    "rows = 5\n",
    "spaces = 0\n",
    "print_count = 2* rows -1\n",
    "count =65\n",
    "for i in range(rows):\n",
    "    for j in range(spaces):\n",
    "        print(end=' ')\n",
    "    spaces = spaces+1\n",
    "    for j in range(print_count):\n",
    "        print(chr(count),end='')\n",
    "    print_count = print_count-2\n",
    "    count = count +1\n",
    "    print()"
   ]
  },
  {
   "cell_type": "code",
   "execution_count": 7,
   "id": "82069499",
   "metadata": {},
   "outputs": [
    {
     "name": "stdout",
     "output_type": "stream",
     "text": [
      "ABCDEFGHI\n",
      " ABCDEFG\n",
      "  ABCDE\n",
      "   ABC\n",
      "    A\n"
     ]
    }
   ],
   "source": [
    "rows = 5\n",
    "spaces = 0\n",
    "print_count = 2* rows -1\n",
    "count =65\n",
    "for i in range(rows):\n",
    "    for j in range(spaces):\n",
    "        print(end=' ')\n",
    "    spaces = spaces+1\n",
    "    for j in range(print_count):\n",
    "        print(chr(count),end='')\n",
    "        count = count +1\n",
    "    print_count = print_count-2\n",
    "    count =65\n",
    "    print()"
   ]
  },
  {
   "cell_type": "code",
   "execution_count": 8,
   "id": "9f95b183",
   "metadata": {},
   "outputs": [
    {
     "name": "stdout",
     "output_type": "stream",
     "text": [
      "777777777\n",
      " 5555555\n",
      "  77777\n",
      "   999\n",
      "    7\n"
     ]
    }
   ],
   "source": [
    "spaces = 0\n",
    "print_count = 2* rows -1\n",
    "for i in range(rows):\n",
    "    for j in range(spaces):\n",
    "        print(end=' ')\n",
    "    spaces = spaces+1\n",
    "    for j in range(print_count):\n",
    "        if(i%2==0):\n",
    "            print(\"7\",end='')\n",
    "        elif(i%3==1):\n",
    "            print(\"5\", end = \"\")\n",
    "        else:\n",
    "            print(\"9\",end='')\n",
    "        \n",
    "    print_count = print_count-2\n",
    "    print()"
   ]
  },
  {
   "cell_type": "code",
   "execution_count": 9,
   "id": "345343f7",
   "metadata": {},
   "outputs": [
    {
     "name": "stdout",
     "output_type": "stream",
     "text": [
      "         * \n",
      "        * * \n",
      "       * * * \n",
      "      * * * * \n",
      "     * * * * * \n",
      "    * * * * * * \n",
      "   * * * * * * * \n",
      "  * * * * * * * * \n",
      " * * * * * * * * * \n",
      "* * * * * * * * * * \n"
     ]
    }
   ],
   "source": [
    "rows = 10\n",
    "spaces = rows -1\n",
    "print_count = 1\n",
    "for i in range(rows):\n",
    "    for j in range(spaces):\n",
    "        print(end=' ')\n",
    "    spaces = spaces -1\n",
    "    for j in range(print_count):\n",
    "        print(\"* \",end='')\n",
    "        \n",
    "    print_count +=1\n",
    "    print()"
   ]
  },
  {
   "cell_type": "code",
   "execution_count": 10,
   "id": "68e89dbb",
   "metadata": {},
   "outputs": [
    {
     "name": "stdout",
     "output_type": "stream",
     "text": [
      "         0 \n",
      "        1 1 \n",
      "       2 2 2 \n",
      "      3 3 3 3 \n",
      "     4 4 4 4 4 \n",
      "    5 5 5 5 5 5 \n",
      "   6 6 6 6 6 6 6 \n",
      "  7 7 7 7 7 7 7 7 \n",
      " 8 8 8 8 8 8 8 8 8 \n",
      "9 9 9 9 9 9 9 9 9 9 \n"
     ]
    }
   ],
   "source": [
    "rows = 10\n",
    "spaces = rows -1\n",
    "print_count = 1\n",
    "for i in range(rows):\n",
    "    for j in range(spaces):\n",
    "        print(end=' ')\n",
    "    spaces = spaces -1\n",
    "    for j in range(print_count):\n",
    "        print(f\"{i} \",end='')\n",
    "        \n",
    "    print_count +=1\n",
    "    print()"
   ]
  },
  {
   "cell_type": "code",
   "execution_count": 11,
   "id": "b9abe039",
   "metadata": {},
   "outputs": [
    {
     "name": "stdout",
     "output_type": "stream",
     "text": [
      "         0 \n",
      "        0 1 \n",
      "       0 1 2 \n",
      "      0 1 2 3 \n",
      "     0 1 2 3 4 \n",
      "    0 1 2 3 4 5 \n",
      "   0 1 2 3 4 5 6 \n",
      "  0 1 2 3 4 5 6 7 \n",
      " 0 1 2 3 4 5 6 7 8 \n",
      "0 1 2 3 4 5 6 7 8 9 \n"
     ]
    }
   ],
   "source": [
    "rows = 10\n",
    "spaces = rows -1\n",
    "print_count = 1\n",
    "for i in range(rows):\n",
    "    for j in range(spaces):\n",
    "        print(end=' ')\n",
    "    spaces = spaces -1\n",
    "    for j in range(print_count):\n",
    "        print(f\"{j} \",end='')\n",
    "        \n",
    "    print_count +=1\n",
    "    print()"
   ]
  },
  {
   "cell_type": "code",
   "execution_count": 12,
   "id": "783cde20",
   "metadata": {},
   "outputs": [
    {
     "name": "stdout",
     "output_type": "stream",
     "text": [
      "         $ \n",
      "        $ $ \n",
      "       $ $ $ \n",
      "      $ $ $ $ \n",
      "     $ $ $ $ $ \n",
      "    $ $ $ $ $ $ \n",
      "   $ $ $ $ $ $ $ \n",
      "  $ $ $ $ $ $ $ $ \n",
      " $ $ $ $ $ $ $ $ $ \n",
      "$ $ $ $ $ $ $ $ $ $ \n"
     ]
    }
   ],
   "source": [
    "rows = 10\n",
    "spaces = rows -1\n",
    "print_count = 1\n",
    "for i in range(rows):\n",
    "    for j in range(spaces):\n",
    "        print(end=' ')\n",
    "    spaces = spaces -1\n",
    "    for j in range(print_count):\n",
    "        print(\"$\" ,end=' ')\n",
    "        \n",
    "    print_count +=1\n",
    "    print()"
   ]
  },
  {
   "cell_type": "code",
   "execution_count": 13,
   "id": "d7cc56cb",
   "metadata": {},
   "outputs": [
    {
     "name": "stdout",
     "output_type": "stream",
     "text": [
      "         a \n",
      "        b b \n",
      "       c c c \n",
      "      d d d d \n",
      "     e e e e e \n",
      "    f f f f f f \n",
      "   g g g g g g g \n",
      "  h h h h h h h h \n",
      " i i i i i i i i i \n",
      "j j j j j j j j j j \n"
     ]
    }
   ],
   "source": [
    "rows = 10\n",
    "spaces = rows -1\n",
    "print_count = 1\n",
    "count = 97\n",
    "for i in range(rows):\n",
    "    for j in range(spaces):\n",
    "        print(end=' ')\n",
    "    spaces = spaces -1\n",
    "    for j in range(print_count):\n",
    "        print(chr(count)+\" \",end='')\n",
    "    count +=1   \n",
    "    print_count +=1\n",
    "    print()"
   ]
  },
  {
   "cell_type": "code",
   "execution_count": 14,
   "id": "945907ad",
   "metadata": {},
   "outputs": [
    {
     "name": "stdout",
     "output_type": "stream",
     "text": [
      "    a \n",
      "   b c \n",
      "  d e f \n",
      " g h i j \n",
      "k l m n o \n"
     ]
    }
   ],
   "source": [
    "rows = 5\n",
    "spaces = rows -1\n",
    "print_count = 1\n",
    "count = 97\n",
    "for i in range(rows):\n",
    "    for j in range(spaces):\n",
    "        print(end=' ')\n",
    "    spaces = spaces -1\n",
    "    for j in range(print_count):\n",
    "        print(chr(count)+\" \",end='')\n",
    "        count +=1  \n",
    "     \n",
    "    print_count +=1\n",
    "    print()"
   ]
  },
  {
   "cell_type": "code",
   "execution_count": 15,
   "id": "4f5023ec",
   "metadata": {},
   "outputs": [
    {
     "name": "stdout",
     "output_type": "stream",
     "text": [
      "    a \n",
      "   a b \n",
      "  a b c \n",
      " a b c d \n",
      "a b c d e \n"
     ]
    }
   ],
   "source": [
    "rows = 5\n",
    "spaces = rows -1\n",
    "print_count = 1\n",
    "\n",
    "for i in range(rows):\n",
    "    count = 97\n",
    "    for j in range(spaces):\n",
    "        print(end=' ')\n",
    "    spaces = spaces -1\n",
    "    for j in range(print_count):\n",
    "        print(chr(count)+\" \",end='')\n",
    "        count +=1\n",
    "     \n",
    "    print_count +=1\n",
    "    print()"
   ]
  },
  {
   "cell_type": "code",
   "execution_count": 16,
   "id": "67d1edd1",
   "metadata": {},
   "outputs": [
    {
     "name": "stdout",
     "output_type": "stream",
     "text": [
      "*\n",
      "**\n",
      "***\n",
      "****\n",
      "*****\n",
      "****\n",
      "***\n",
      "**\n",
      "*\n",
      "\n"
     ]
    }
   ],
   "source": [
    "rows = 5\n",
    "print_count = 1\n",
    "for i in range(rows):\n",
    "    for j in range(print_count):\n",
    "        print(\"*\",end='')\n",
    "    print_count +=1\n",
    "    print()\n",
    "print_count = rows -1\n",
    "\n",
    "for i in range(rows):\n",
    "    for j in range(print_count):\n",
    "        print(\"*\",end= \"\")\n",
    "    print_count -=1\n",
    "    print()     "
   ]
  },
  {
   "cell_type": "code",
   "execution_count": 17,
   "id": "28486f67",
   "metadata": {},
   "outputs": [
    {
     "name": "stdout",
     "output_type": "stream",
     "text": [
      "* * * * * \n",
      " * * * * \n",
      "  * * * \n",
      "   * * \n",
      "    * \n"
     ]
    }
   ],
   "source": [
    "rows = 5\n",
    "spaces = 0\n",
    "print_count = rows\n",
    "for i in range(rows):\n",
    "    for j in range(spaces):\n",
    "        print(' ',end = \"\")\n",
    "    spaces +=1\n",
    "    for j in range(print_count):\n",
    "        print(\"*\", end= ' ')\n",
    "    print_count -=1\n",
    "    print()"
   ]
  },
  {
   "cell_type": "code",
   "execution_count": 18,
   "id": "cd402bc5",
   "metadata": {},
   "outputs": [
    {
     "name": "stdout",
     "output_type": "stream",
     "text": [
      "    *    * * * * * \n",
      "   * *    * * * * \n",
      "  * * *    * * * \n",
      " * * * *    * * \n",
      "* * * * *    * \n"
     ]
    }
   ],
   "source": [
    "rows = 5\n",
    "spaces1 = rows -1\n",
    "print_count1 = 1\n",
    "spaces2 = rows -2\n",
    "print_count2 = rows\n",
    "for i in range(rows):\n",
    "    for j in range(spaces1):\n",
    "        print(end=' ')\n",
    "    spaces1 = spaces1 -1\n",
    "    for j in range(print_count1):\n",
    "        print(\"*\",end=' ')\n",
    "        \n",
    "    print_count1 +=1\n",
    "    for j in range(spaces2):\n",
    "        print(end=' ')\n",
    "    for j in range(print_count2):\n",
    "        print(\"*\",end=' ')\n",
    "    print_count2-=1\n",
    "    print()"
   ]
  },
  {
   "cell_type": "code",
   "execution_count": 19,
   "id": "fd3a03db",
   "metadata": {},
   "outputs": [
    {
     "name": "stdout",
     "output_type": "stream",
     "text": [
      "    ₹    $ $ $ $ $ \n",
      "   ₹ ₹    $ $ $ $ \n",
      "  ₹ ₹ ₹    $ $ $ \n",
      " ₹ ₹ ₹ ₹    $ $ \n",
      "₹ ₹ ₹ ₹ ₹    $ \n"
     ]
    }
   ],
   "source": [
    "rows = 5\n",
    "spaces1 = rows -1\n",
    "print_count1 = 1\n",
    "spaces2 = rows -2\n",
    "print_count2 = rows\n",
    "for i in range(rows):\n",
    "    for j in range(spaces1):\n",
    "        print(end=' ')\n",
    "    spaces1 = spaces1 -1\n",
    "    for j in range(print_count1):\n",
    "        print(\"₹\",end=' ')\n",
    "        \n",
    "    print_count1 +=1\n",
    "    for j in range(spaces2):\n",
    "        print(end=' ')\n",
    "    for j in range(print_count2):\n",
    "        print(\"$\",end=' ')\n",
    "    print_count2-=1\n",
    "    print()"
   ]
  },
  {
   "cell_type": "code",
   "execution_count": 20,
   "id": "8f570829",
   "metadata": {},
   "outputs": [
    {
     "name": "stdout",
     "output_type": "stream",
     "text": [
      "     0     A A A A A A \n",
      "    1 1     B B B B B \n",
      "   2 2 2     C C C C \n",
      "  3 3 3 3     D D D \n",
      " 4 4 4 4 4     E E \n",
      "5 5 5 5 5 5     F \n"
     ]
    }
   ],
   "source": [
    "rows = 6\n",
    "spaces1 = rows -1\n",
    "print_count1 = 1\n",
    "spaces2 = rows -2\n",
    "print_count2 = rows\n",
    "count = 65\n",
    "for i in range(rows):\n",
    "    for j in range(spaces1):\n",
    "        print(end=' ')\n",
    "    spaces1 = spaces1 -1\n",
    "    for j in range(print_count1):\n",
    "        print(i,end=' ')\n",
    "        \n",
    "    print_count1 +=1\n",
    "    for j in range(spaces2):\n",
    "        print(end=' ')\n",
    "    for j in range(print_count2):\n",
    "        print(chr(count),end=' ')\n",
    "    count +=1\n",
    "    print_count2-=1\n",
    "    print()"
   ]
  },
  {
   "cell_type": "markdown",
   "id": "cdcd84bf",
   "metadata": {},
   "source": [
    "# Functions"
   ]
  },
  {
   "cell_type": "code",
   "execution_count": 21,
   "id": "c6412c1b",
   "metadata": {},
   "outputs": [
    {
     "name": "stdout",
     "output_type": "stream",
     "text": [
      "Hello World\n"
     ]
    }
   ],
   "source": [
    "def fun():\n",
    "    print(\"Hello World\")\n",
    "fun()"
   ]
  },
  {
   "cell_type": "code",
   "execution_count": 22,
   "id": "8294316e",
   "metadata": {},
   "outputs": [
    {
     "name": "stdout",
     "output_type": "stream",
     "text": [
      "Hello World\n",
      "Hello World\n",
      "Hello World\n",
      "Hello World\n",
      "Hello World\n"
     ]
    }
   ],
   "source": [
    "def fun(count):\n",
    "    for i in range(count):\n",
    "        print(\"Hello World\")\n",
    "fun(5)"
   ]
  },
  {
   "cell_type": "code",
   "execution_count": 28,
   "id": "0db6fc68",
   "metadata": {},
   "outputs": [
    {
     "name": "stdout",
     "output_type": "stream",
     "text": [
      "Anubhav Sinha\n"
     ]
    }
   ],
   "source": [
    "def fun(sentence,count=1):\n",
    "    for i in range(count):\n",
    "        print(sentence)\n",
    "fun(\"Anubhav Sinha\")"
   ]
  },
  {
   "cell_type": "code",
   "execution_count": 30,
   "id": "2cb97b0c",
   "metadata": {},
   "outputs": [
    {
     "name": "stdout",
     "output_type": "stream",
     "text": [
      "I love CSE.\n"
     ]
    }
   ],
   "source": [
    "def fun(sentence,count=1):\n",
    "    for i in range(count):\n",
    "        print(sentence)\n",
    "fun(sentence=\"I love CSE.\")"
   ]
  },
  {
   "cell_type": "code",
   "execution_count": 31,
   "id": "bc5aeee2",
   "metadata": {},
   "outputs": [
    {
     "name": "stdout",
     "output_type": "stream",
     "text": [
      "Anubhav Sinha\n",
      "Anubhav Sinha\n",
      "Anubhav Sinha\n"
     ]
    }
   ],
   "source": [
    "def fun(sentence,count):\n",
    "    for i in range(count):\n",
    "        print(sentence)\n",
    "fun(count = 3,sentence=\"Anubhav Sinha\")"
   ]
  },
  {
   "cell_type": "code",
   "execution_count": 36,
   "id": "9de05d93",
   "metadata": {},
   "outputs": [
    {
     "name": "stdout",
     "output_type": "stream",
     "text": [
      "The sum of first 6 natural number is 15\n"
     ]
    }
   ],
   "source": [
    "def sumation(num):\n",
    "    result = 0\n",
    "    for i in range(num):\n",
    "        result =result + i\n",
    "    return result\n",
    "number  = 6\n",
    "result = sumation(number)\n",
    "print(f\"The sum of first {number} natural number is {result}\")"
   ]
  },
  {
   "cell_type": "code",
   "execution_count": null,
   "id": "8632b40a",
   "metadata": {},
   "outputs": [],
   "source": []
  },
  {
   "cell_type": "code",
   "execution_count": 65,
   "id": "107c2ba8",
   "metadata": {},
   "outputs": [
    {
     "name": "stdout",
     "output_type": "stream",
     "text": [
      "Enter the number you want sum of: 4\n",
      "The sum of first 4 and its sum is 10\n"
     ]
    }
   ],
   "source": [
    "def sumation(num):\n",
    "    result = 0\n",
    "    for i in range(num+1):\n",
    "        result += i\n",
    "        \n",
    "    return result\n",
    "number  = int(input(\"Enter the number you want sum of: \"))\n",
    "n = sumation(number)\n",
    "print(f\"The sum of first {number} and its sum is {sumation(number)}\")"
   ]
  },
  {
   "cell_type": "markdown",
   "id": "db626439",
   "metadata": {},
   "source": [
    "# List"
   ]
  },
  {
   "cell_type": "code",
   "execution_count": 60,
   "id": "f9100ad3",
   "metadata": {},
   "outputs": [
    {
     "name": "stdout",
     "output_type": "stream",
     "text": [
      "[1, 23, 4, 4]\n"
     ]
    }
   ],
   "source": [
    "lst = [1,23,4]\n",
    "lst.append(4)\n",
    "print(lst)"
   ]
  },
  {
   "cell_type": "code",
   "execution_count": 61,
   "id": "3d5a0388",
   "metadata": {},
   "outputs": [
    {
     "name": "stdout",
     "output_type": "stream",
     "text": [
      "[1, 23]\n"
     ]
    }
   ],
   "source": [
    "lst = [1,23,4]\n",
    "lst.remove(4)\n",
    "print(lst)"
   ]
  },
  {
   "cell_type": "code",
   "execution_count": 62,
   "id": "48abff23",
   "metadata": {},
   "outputs": [
    {
     "data": {
      "text/plain": [
       "list"
      ]
     },
     "execution_count": 62,
     "metadata": {},
     "output_type": "execute_result"
    }
   ],
   "source": [
    "type(lst)"
   ]
  },
  {
   "cell_type": "code",
   "execution_count": 63,
   "id": "8c8bcd8b",
   "metadata": {},
   "outputs": [
    {
     "name": "stdout",
     "output_type": "stream",
     "text": [
      "<class 'list'>\n"
     ]
    }
   ],
   "source": [
    "print(type(lst))"
   ]
  },
  {
   "cell_type": "code",
   "execution_count": 64,
   "id": "da876cf1",
   "metadata": {},
   "outputs": [
    {
     "name": "stdout",
     "output_type": "stream",
     "text": [
      "[1, 23, 'Rishav']\n"
     ]
    }
   ],
   "source": [
    "lst.append(\"Rishav\")\n",
    "print(lst)"
   ]
  },
  {
   "cell_type": "code",
   "execution_count": 67,
   "id": "5fd053a8",
   "metadata": {},
   "outputs": [
    {
     "name": "stdout",
     "output_type": "stream",
     "text": [
      "[1, 4, 4, 23, 'Rishav']\n"
     ]
    }
   ],
   "source": [
    "lst.insert(1,4)\n",
    "print(lst)"
   ]
  },
  {
   "cell_type": "code",
   "execution_count": 69,
   "id": "f76afe2f",
   "metadata": {},
   "outputs": [
    {
     "name": "stdout",
     "output_type": "stream",
     "text": [
      "1\n"
     ]
    }
   ],
   "source": [
    "print(lst[0])"
   ]
  },
  {
   "cell_type": "code",
   "execution_count": 70,
   "id": "a833023d",
   "metadata": {},
   "outputs": [
    {
     "data": {
      "text/plain": [
       "'Rishav'"
      ]
     },
     "execution_count": 70,
     "metadata": {},
     "output_type": "execute_result"
    }
   ],
   "source": [
    "lst[4]"
   ]
  },
  {
   "cell_type": "code",
   "execution_count": 71,
   "id": "b03e576a",
   "metadata": {},
   "outputs": [
    {
     "name": "stdout",
     "output_type": "stream",
     "text": [
      "6\n"
     ]
    }
   ],
   "source": [
    "lst =[2,5,1,7,3,8,4,9,6]\n",
    "print(lst[-1])"
   ]
  },
  {
   "cell_type": "code",
   "execution_count": 73,
   "id": "baf7e94a",
   "metadata": {},
   "outputs": [
    {
     "data": {
      "text/plain": [
       "[2, 5, 1, 7, 3, 8, 4, 9, 6]"
      ]
     },
     "execution_count": 73,
     "metadata": {},
     "output_type": "execute_result"
    }
   ],
   "source": [
    "lst"
   ]
  },
  {
   "cell_type": "code",
   "execution_count": 74,
   "id": "80667208",
   "metadata": {},
   "outputs": [
    {
     "data": {
      "text/plain": [
       "[2, 5, 1, 7, 3, 8, 4, 9, 6]"
      ]
     },
     "execution_count": 74,
     "metadata": {},
     "output_type": "execute_result"
    }
   ],
   "source": [
    "lst[::]"
   ]
  },
  {
   "cell_type": "code",
   "execution_count": 75,
   "id": "8f4d9903",
   "metadata": {},
   "outputs": [
    {
     "data": {
      "text/plain": [
       "[2, 5, 1, 7, 3, 8, 4, 9, 6]"
      ]
     },
     "execution_count": 75,
     "metadata": {},
     "output_type": "execute_result"
    }
   ],
   "source": [
    "lst[:]"
   ]
  },
  {
   "cell_type": "code",
   "execution_count": 76,
   "id": "8afdebb9",
   "metadata": {},
   "outputs": [
    {
     "data": {
      "text/plain": [
       "[2, 5, 1]"
      ]
     },
     "execution_count": 76,
     "metadata": {},
     "output_type": "execute_result"
    }
   ],
   "source": [
    "lst[0:3]"
   ]
  },
  {
   "cell_type": "code",
   "execution_count": 77,
   "id": "46792cb9",
   "metadata": {},
   "outputs": [
    {
     "name": "stdout",
     "output_type": "stream",
     "text": [
      "['python', 'anaconda', 'cobra', ['black mamba', 'viper', 'rattle snake']]\n",
      "['black mamba', 'viper', 'rattle snake']\n"
     ]
    }
   ],
   "source": [
    "lst1= ['python','anaconda','cobra']\n",
    "lst2= ['black mamba', 'viper','rattle snake']\n",
    "lst1.append(lst2)\n",
    "print(lst1)\n",
    "print(lst2)"
   ]
  },
  {
   "cell_type": "code",
   "execution_count": 78,
   "id": "5a267395",
   "metadata": {},
   "outputs": [
    {
     "name": "stdout",
     "output_type": "stream",
     "text": [
      "['python', 'anaconda', 'cobra', 'black mamba', 'viper', 'rattle snake']\n",
      "['black mamba', 'viper', 'rattle snake']\n"
     ]
    }
   ],
   "source": [
    "lst1= ['python','anaconda','cobra']\n",
    "lst2= ['black mamba', 'viper','rattle snake']\n",
    "lst1.extend(lst2)\n",
    "print(lst1)\n",
    "print(lst2)"
   ]
  },
  {
   "cell_type": "code",
   "execution_count": 79,
   "id": "8a1b80a9",
   "metadata": {},
   "outputs": [
    {
     "name": "stdout",
     "output_type": "stream",
     "text": [
      "['python', 'anaconda', 'cobra', 'black mamba', 'viper', 'rattle snake']\n",
      "['black mamba', 'viper', 'rattle snake']\n"
     ]
    }
   ],
   "source": [
    "lst1= ['python','anaconda','cobra']\n",
    "lst2= ['black mamba', 'viper','rattle snake']\n",
    "lst1 = lst1+lst2\n",
    "print(lst1)\n",
    "print(lst2)"
   ]
  },
  {
   "cell_type": "code",
   "execution_count": 80,
   "id": "79588046",
   "metadata": {},
   "outputs": [
    {
     "data": {
      "text/plain": [
       "'rattle snake'"
      ]
     },
     "execution_count": 80,
     "metadata": {},
     "output_type": "execute_result"
    }
   ],
   "source": [
    "lst = ['python', 'anaconda', 'cobra', 'black mamba', 'viper', 'rattle snake']\n",
    "lst.pop()"
   ]
  },
  {
   "cell_type": "code",
   "execution_count": 82,
   "id": "8d4878eb",
   "metadata": {},
   "outputs": [
    {
     "name": "stdout",
     "output_type": "stream",
     "text": [
      "[1, 2, 3, 1, 2, 3, 1, 2, 3]\n",
      "[1, 2, 3]\n"
     ]
    }
   ],
   "source": [
    "lst =[1,2,3]\n",
    "print(lst * 3)\n",
    "print(lst)"
   ]
  },
  {
   "cell_type": "code",
   "execution_count": 83,
   "id": "7b62b5f8",
   "metadata": {},
   "outputs": [
    {
     "name": "stdout",
     "output_type": "stream",
     "text": [
      "[1, 2, 3, 1, 2, 3, 1, 2, 3]\n",
      "[1, 2, 3, 1, 2, 3, 1, 2, 3]\n"
     ]
    }
   ],
   "source": [
    "lst =[1,2,3]\n",
    "print(lst * 3)\n",
    "lst = lst*3\n",
    "print(lst)"
   ]
  },
  {
   "cell_type": "code",
   "execution_count": 84,
   "id": "588e1ae0",
   "metadata": {},
   "outputs": [
    {
     "name": "stdout",
     "output_type": "stream",
     "text": [
      "6\n"
     ]
    }
   ],
   "source": [
    "lst = ['python', 'anaconda', 'cobra', 'black mamba', 'viper', 'rattle snake']\n",
    "print(len(lst))"
   ]
  },
  {
   "cell_type": "code",
   "execution_count": 85,
   "id": "79c692b8",
   "metadata": {},
   "outputs": [
    {
     "data": {
      "text/plain": [
       "'viper'"
      ]
     },
     "execution_count": 85,
     "metadata": {},
     "output_type": "execute_result"
    }
   ],
   "source": [
    "max(lst)"
   ]
  },
  {
   "cell_type": "code",
   "execution_count": 86,
   "id": "d7000d7b",
   "metadata": {},
   "outputs": [
    {
     "name": "stdout",
     "output_type": "stream",
     "text": [
      "python\n"
     ]
    }
   ],
   "source": [
    "lst = ['python', 'anaconda', 'cobra', 'black mamba']\n",
    "print(max(lst))"
   ]
  },
  {
   "cell_type": "code",
   "execution_count": 87,
   "id": "33e8d0e8",
   "metadata": {},
   "outputs": [
    {
     "name": "stdout",
     "output_type": "stream",
     "text": [
      "[]\n",
      "[1]\n"
     ]
    }
   ],
   "source": [
    "lst = []\n",
    "print(lst)\n",
    "lst.append(1)\n",
    "print(lst)"
   ]
  },
  {
   "cell_type": "code",
   "execution_count": 89,
   "id": "0ec921ad",
   "metadata": {},
   "outputs": [
    {
     "name": "stdout",
     "output_type": "stream",
     "text": [
      "['python', 'anaconda', 'anaconda', 'cobra']\n"
     ]
    }
   ],
   "source": [
    "lst = ['python', 'anaconda', 'cobra']\n",
    "lst.insert(1,\"anaconda\")\n",
    "print(lst)"
   ]
  },
  {
   "cell_type": "code",
   "execution_count": null,
   "id": "025e544c",
   "metadata": {},
   "outputs": [],
   "source": []
  },
  {
   "cell_type": "code",
   "execution_count": null,
   "id": "50ac3675",
   "metadata": {},
   "outputs": [],
   "source": []
  },
  {
   "cell_type": "code",
   "execution_count": null,
   "id": "5abe8054",
   "metadata": {},
   "outputs": [],
   "source": []
  },
  {
   "cell_type": "code",
   "execution_count": null,
   "id": "b9889dd3",
   "metadata": {},
   "outputs": [],
   "source": []
  },
  {
   "cell_type": "code",
   "execution_count": null,
   "id": "802268e2",
   "metadata": {},
   "outputs": [],
   "source": []
  },
  {
   "cell_type": "code",
   "execution_count": null,
   "id": "7e00f0b4",
   "metadata": {},
   "outputs": [],
   "source": []
  },
  {
   "cell_type": "code",
   "execution_count": null,
   "id": "1dc53b0d",
   "metadata": {},
   "outputs": [],
   "source": []
  },
  {
   "cell_type": "code",
   "execution_count": null,
   "id": "f32d51c3",
   "metadata": {},
   "outputs": [],
   "source": []
  },
  {
   "cell_type": "code",
   "execution_count": null,
   "id": "02e73988",
   "metadata": {},
   "outputs": [],
   "source": []
  },
  {
   "cell_type": "code",
   "execution_count": null,
   "id": "ba4efc40",
   "metadata": {},
   "outputs": [],
   "source": []
  },
  {
   "cell_type": "code",
   "execution_count": null,
   "id": "d21855e4",
   "metadata": {},
   "outputs": [],
   "source": []
  },
  {
   "cell_type": "code",
   "execution_count": null,
   "id": "c9e5c521",
   "metadata": {},
   "outputs": [],
   "source": []
  },
  {
   "cell_type": "code",
   "execution_count": null,
   "id": "76cf32c9",
   "metadata": {},
   "outputs": [],
   "source": []
  },
  {
   "cell_type": "code",
   "execution_count": null,
   "id": "043fe641",
   "metadata": {},
   "outputs": [],
   "source": []
  },
  {
   "cell_type": "code",
   "execution_count": null,
   "id": "3805ac31",
   "metadata": {},
   "outputs": [],
   "source": []
  },
  {
   "cell_type": "code",
   "execution_count": null,
   "id": "c242e7df",
   "metadata": {},
   "outputs": [],
   "source": []
  },
  {
   "cell_type": "code",
   "execution_count": null,
   "id": "38567dfa",
   "metadata": {},
   "outputs": [],
   "source": []
  },
  {
   "cell_type": "code",
   "execution_count": null,
   "id": "0c3fddf1",
   "metadata": {},
   "outputs": [],
   "source": []
  },
  {
   "cell_type": "code",
   "execution_count": null,
   "id": "5b2a8f69",
   "metadata": {},
   "outputs": [],
   "source": []
  },
  {
   "cell_type": "code",
   "execution_count": null,
   "id": "13cc4676",
   "metadata": {},
   "outputs": [],
   "source": []
  },
  {
   "cell_type": "code",
   "execution_count": null,
   "id": "3b49a32f",
   "metadata": {},
   "outputs": [],
   "source": []
  },
  {
   "cell_type": "code",
   "execution_count": null,
   "id": "1284958d",
   "metadata": {},
   "outputs": [],
   "source": []
  },
  {
   "cell_type": "code",
   "execution_count": null,
   "id": "334a4a8a",
   "metadata": {},
   "outputs": [],
   "source": []
  },
  {
   "cell_type": "code",
   "execution_count": null,
   "id": "200279de",
   "metadata": {},
   "outputs": [],
   "source": []
  },
  {
   "cell_type": "code",
   "execution_count": null,
   "id": "6cee7a3a",
   "metadata": {},
   "outputs": [],
   "source": []
  },
  {
   "cell_type": "code",
   "execution_count": null,
   "id": "3cec94f3",
   "metadata": {},
   "outputs": [],
   "source": []
  },
  {
   "cell_type": "code",
   "execution_count": null,
   "id": "14afe6d1",
   "metadata": {},
   "outputs": [],
   "source": []
  },
  {
   "cell_type": "code",
   "execution_count": null,
   "id": "cc471078",
   "metadata": {},
   "outputs": [],
   "source": []
  },
  {
   "cell_type": "code",
   "execution_count": null,
   "id": "562ff623",
   "metadata": {},
   "outputs": [],
   "source": []
  },
  {
   "cell_type": "code",
   "execution_count": null,
   "id": "b63a4fbf",
   "metadata": {},
   "outputs": [],
   "source": []
  },
  {
   "cell_type": "code",
   "execution_count": null,
   "id": "12ff1d6f",
   "metadata": {},
   "outputs": [],
   "source": []
  },
  {
   "cell_type": "code",
   "execution_count": null,
   "id": "cebf85de",
   "metadata": {},
   "outputs": [],
   "source": []
  },
  {
   "cell_type": "code",
   "execution_count": null,
   "id": "c44bf1c3",
   "metadata": {},
   "outputs": [],
   "source": []
  },
  {
   "cell_type": "code",
   "execution_count": null,
   "id": "90d33f3d",
   "metadata": {},
   "outputs": [],
   "source": []
  },
  {
   "cell_type": "code",
   "execution_count": null,
   "id": "a104c6e0",
   "metadata": {},
   "outputs": [],
   "source": []
  },
  {
   "cell_type": "code",
   "execution_count": null,
   "id": "b1b95258",
   "metadata": {},
   "outputs": [],
   "source": []
  },
  {
   "cell_type": "code",
   "execution_count": null,
   "id": "aaf1359b",
   "metadata": {},
   "outputs": [],
   "source": []
  },
  {
   "cell_type": "code",
   "execution_count": null,
   "id": "8ac89704",
   "metadata": {},
   "outputs": [],
   "source": []
  },
  {
   "cell_type": "code",
   "execution_count": null,
   "id": "db7a1b38",
   "metadata": {},
   "outputs": [],
   "source": []
  },
  {
   "cell_type": "code",
   "execution_count": null,
   "id": "d6686ebd",
   "metadata": {},
   "outputs": [],
   "source": []
  },
  {
   "cell_type": "code",
   "execution_count": null,
   "id": "5ce72f32",
   "metadata": {},
   "outputs": [],
   "source": []
  },
  {
   "cell_type": "code",
   "execution_count": null,
   "id": "dce58b5b",
   "metadata": {},
   "outputs": [],
   "source": []
  },
  {
   "cell_type": "code",
   "execution_count": null,
   "id": "36b5a493",
   "metadata": {},
   "outputs": [],
   "source": []
  },
  {
   "cell_type": "code",
   "execution_count": null,
   "id": "bae5e98a",
   "metadata": {},
   "outputs": [],
   "source": []
  },
  {
   "cell_type": "code",
   "execution_count": null,
   "id": "dc2880c4",
   "metadata": {},
   "outputs": [],
   "source": []
  },
  {
   "cell_type": "code",
   "execution_count": null,
   "id": "02b459d8",
   "metadata": {},
   "outputs": [],
   "source": []
  },
  {
   "cell_type": "code",
   "execution_count": null,
   "id": "309af880",
   "metadata": {},
   "outputs": [],
   "source": []
  },
  {
   "cell_type": "code",
   "execution_count": null,
   "id": "04fbef3d",
   "metadata": {},
   "outputs": [],
   "source": []
  },
  {
   "cell_type": "code",
   "execution_count": null,
   "id": "d56a011e",
   "metadata": {},
   "outputs": [],
   "source": []
  },
  {
   "cell_type": "code",
   "execution_count": null,
   "id": "9c9dce52",
   "metadata": {},
   "outputs": [],
   "source": []
  },
  {
   "cell_type": "code",
   "execution_count": null,
   "id": "d0cb48d1",
   "metadata": {},
   "outputs": [],
   "source": []
  },
  {
   "cell_type": "code",
   "execution_count": null,
   "id": "ce1fed6a",
   "metadata": {},
   "outputs": [],
   "source": []
  },
  {
   "cell_type": "code",
   "execution_count": null,
   "id": "3b56e2de",
   "metadata": {},
   "outputs": [],
   "source": []
  },
  {
   "cell_type": "code",
   "execution_count": null,
   "id": "6ca4d0ed",
   "metadata": {},
   "outputs": [],
   "source": []
  },
  {
   "cell_type": "code",
   "execution_count": null,
   "id": "2fa11080",
   "metadata": {},
   "outputs": [],
   "source": []
  },
  {
   "cell_type": "code",
   "execution_count": null,
   "id": "e5c4f094",
   "metadata": {},
   "outputs": [],
   "source": []
  },
  {
   "cell_type": "code",
   "execution_count": null,
   "id": "3ba29ec6",
   "metadata": {},
   "outputs": [],
   "source": []
  },
  {
   "cell_type": "code",
   "execution_count": null,
   "id": "6c25e53e",
   "metadata": {},
   "outputs": [],
   "source": []
  },
  {
   "cell_type": "code",
   "execution_count": null,
   "id": "7184df8f",
   "metadata": {},
   "outputs": [],
   "source": []
  },
  {
   "cell_type": "code",
   "execution_count": null,
   "id": "2e2bb88e",
   "metadata": {},
   "outputs": [],
   "source": []
  },
  {
   "cell_type": "code",
   "execution_count": null,
   "id": "9635ff78",
   "metadata": {},
   "outputs": [],
   "source": []
  },
  {
   "cell_type": "code",
   "execution_count": null,
   "id": "0e95695b",
   "metadata": {},
   "outputs": [],
   "source": []
  },
  {
   "cell_type": "code",
   "execution_count": null,
   "id": "8eaa17d4",
   "metadata": {},
   "outputs": [],
   "source": []
  },
  {
   "cell_type": "code",
   "execution_count": null,
   "id": "06c1a57a",
   "metadata": {},
   "outputs": [],
   "source": []
  },
  {
   "cell_type": "code",
   "execution_count": null,
   "id": "15b3af46",
   "metadata": {},
   "outputs": [],
   "source": []
  },
  {
   "cell_type": "code",
   "execution_count": null,
   "id": "b8ad47e5",
   "metadata": {},
   "outputs": [],
   "source": []
  },
  {
   "cell_type": "code",
   "execution_count": null,
   "id": "a9af4661",
   "metadata": {},
   "outputs": [],
   "source": []
  },
  {
   "cell_type": "code",
   "execution_count": null,
   "id": "482abdc8",
   "metadata": {},
   "outputs": [],
   "source": []
  },
  {
   "cell_type": "code",
   "execution_count": null,
   "id": "9eac5ca6",
   "metadata": {},
   "outputs": [],
   "source": []
  },
  {
   "cell_type": "code",
   "execution_count": null,
   "id": "ace9c20f",
   "metadata": {},
   "outputs": [],
   "source": []
  }
 ],
 "metadata": {
  "kernelspec": {
   "display_name": "Python 3 (ipykernel)",
   "language": "python",
   "name": "python3"
  },
  "language_info": {
   "codemirror_mode": {
    "name": "ipython",
    "version": 3
   },
   "file_extension": ".py",
   "mimetype": "text/x-python",
   "name": "python",
   "nbconvert_exporter": "python",
   "pygments_lexer": "ipython3",
   "version": "3.9.12"
  }
 },
 "nbformat": 4,
 "nbformat_minor": 5
}
