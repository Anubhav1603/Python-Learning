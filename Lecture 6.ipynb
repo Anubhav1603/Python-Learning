{
 "cells": [
  {
   "cell_type": "markdown",
   "id": "2484b4c6",
   "metadata": {},
   "source": [
    "# Sorting"
   ]
  },
  {
   "cell_type": "code",
   "execution_count": 1,
   "id": "4c6c5331",
   "metadata": {},
   "outputs": [
    {
     "name": "stdout",
     "output_type": "stream",
     "text": [
      "[1, 2, 4, 4, 5, 8]\n"
     ]
    }
   ],
   "source": [
    "lst = [1,4,8,2,4,5]\n",
    "lst.sort()\n",
    "print(lst)"
   ]
  },
  {
   "cell_type": "code",
   "execution_count": 3,
   "id": "8ec36e25",
   "metadata": {},
   "outputs": [
    {
     "name": "stdout",
     "output_type": "stream",
     "text": [
      "[1, 4, 8, 2, 4, 5]\n"
     ]
    }
   ],
   "source": [
    "lst = [1,4,8,2,4,5]\n",
    "sorted(lst) # changes are not getting replicated in the original list\n",
    "print(lst)"
   ]
  },
  {
   "cell_type": "code",
   "execution_count": 5,
   "id": "d2faebd9",
   "metadata": {},
   "outputs": [
    {
     "name": "stdout",
     "output_type": "stream",
     "text": [
      "[1, 2, 4, 4, 5, 8]\n"
     ]
    }
   ],
   "source": [
    "lst = [1,4,8,2,4,5]\n",
    "lst = sorted(lst)\n",
    "print(lst)"
   ]
  },
  {
   "cell_type": "code",
   "execution_count": 6,
   "id": "1b4e38f0",
   "metadata": {},
   "outputs": [
    {
     "name": "stdout",
     "output_type": "stream",
     "text": [
      "[8, 5, 4, 4, 2, 1]\n"
     ]
    }
   ],
   "source": [
    "lst = [1,4,8,2,4,5]\n",
    "lst.sort(reverse=True)\n",
    "print(lst)"
   ]
  },
  {
   "cell_type": "code",
   "execution_count": 7,
   "id": "ed8cc2c7",
   "metadata": {},
   "outputs": [
    {
     "name": "stdout",
     "output_type": "stream",
     "text": [
      "[8, 5, 4, 4, 2, 1]\n"
     ]
    }
   ],
   "source": [
    "lst = [1,4,8,2,4,5]\n",
    "lst = sorted(lst,reverse=True)\n",
    "print(lst)"
   ]
  },
  {
   "cell_type": "markdown",
   "id": "9b36dc80",
   "metadata": {},
   "source": [
    "# List of Tuples"
   ]
  },
  {
   "cell_type": "code",
   "execution_count": 8,
   "id": "5489ed9d",
   "metadata": {},
   "outputs": [
    {
     "name": "stdout",
     "output_type": "stream",
     "text": [
      "[(1, 2), (2, 9), (3, 8), (7, 3), (9, 4)]\n"
     ]
    }
   ],
   "source": [
    "lst = [(1,2),(7,3),(3,8),(9,4),(2,9)]\n",
    "lst.sort()\n",
    "print(lst)"
   ]
  },
  {
   "cell_type": "code",
   "execution_count": 9,
   "id": "9641afdc",
   "metadata": {},
   "outputs": [
    {
     "name": "stdout",
     "output_type": "stream",
     "text": [
      "[(9, 4), (7, 3), (3, 8), (2, 9), (1, 2)]\n"
     ]
    }
   ],
   "source": [
    "lst = [(1,2),(7,3),(3,8),(9,4),(2,9)]\n",
    "lst.sort(reverse=True)\n",
    "print(lst)"
   ]
  },
  {
   "cell_type": "code",
   "execution_count": 10,
   "id": "c64a57cb",
   "metadata": {},
   "outputs": [
    {
     "name": "stdout",
     "output_type": "stream",
     "text": [
      "[(1, 2), (2, 9), (3, 8), (7, 3), (9, 4)]\n"
     ]
    }
   ],
   "source": [
    "lst = [(1,2),(7,3),(3,8),(9,4),(2,9)]\n",
    "lst = sorted(lst)\n",
    "print(lst)"
   ]
  },
  {
   "cell_type": "code",
   "execution_count": 11,
   "id": "00e21ea0",
   "metadata": {},
   "outputs": [
    {
     "name": "stdout",
     "output_type": "stream",
     "text": [
      "[(9, 4), (7, 3), (3, 8), (2, 9), (1, 2)]\n"
     ]
    }
   ],
   "source": [
    "lst = [(1,2),(7,3),(3,8),(9,4),(2,9)]\n",
    "lst = sorted(lst,reverse = True)\n",
    "print(lst)"
   ]
  },
  {
   "cell_type": "code",
   "execution_count": 12,
   "id": "aa63f302",
   "metadata": {},
   "outputs": [
    {
     "name": "stdout",
     "output_type": "stream",
     "text": [
      "[(1, 2), (7, 3), (9, 4), (3, 8), (2, 9)]\n"
     ]
    }
   ],
   "source": [
    "lst = [(1,2),(7,3),(3,8),(9,4),(2,9)]\n",
    "lst.sort(key=lambda element: element[1])\n",
    "print(lst)"
   ]
  },
  {
   "cell_type": "code",
   "execution_count": 13,
   "id": "12aaa0a6",
   "metadata": {},
   "outputs": [
    {
     "name": "stdout",
     "output_type": "stream",
     "text": [
      "[(2, 9), (3, 8), (9, 4), (7, 3), (1, 2)]\n"
     ]
    }
   ],
   "source": [
    "lst = [(1,2),(7,3),(3,8),(9,4),(2,9)]\n",
    "lst.sort(key=lambda element: element[1],reverse=True)\n",
    "print(lst)"
   ]
  },
  {
   "cell_type": "code",
   "execution_count": 15,
   "id": "c0b2c3a2",
   "metadata": {},
   "outputs": [
    {
     "name": "stdout",
     "output_type": "stream",
     "text": [
      "[(2, 9), (3, 8), (9, 4), (7, 3), (1, 2)]\n"
     ]
    }
   ],
   "source": [
    "lst = [(1,2),(7,3),(3,8),(9,4),(2,9)]\n",
    "lst = sorted(lst,key=lambda element: element[1],reverse=True)\n",
    "print(lst)"
   ]
  },
  {
   "cell_type": "code",
   "execution_count": 16,
   "id": "1cb16d6f",
   "metadata": {},
   "outputs": [
    {
     "name": "stdout",
     "output_type": "stream",
     "text": [
      "[(1, 2), (7, 3), (9, 4), (3, 8), (2, 9)]\n"
     ]
    }
   ],
   "source": [
    "def fun(element):\n",
    "    return element[1]\n",
    "lst = [(1,2),(7,3),(3,8),(9,4),(2,9)]\n",
    "lst.sort(key=fun)\n",
    "print(lst)"
   ]
  },
  {
   "cell_type": "code",
   "execution_count": 17,
   "id": "e9d60c23",
   "metadata": {},
   "outputs": [
    {
     "name": "stdout",
     "output_type": "stream",
     "text": [
      "[(2, 9), (3, 8), (9, 4), (7, 3), (1, 2)]\n"
     ]
    }
   ],
   "source": [
    "def fun(element):\n",
    "    return element[1]\n",
    "lst = [(1,2),(7,3),(3,8),(9,4),(2,9)]\n",
    "lst.sort(key=fun, reverse=True)\n",
    "print(lst)"
   ]
  },
  {
   "cell_type": "code",
   "execution_count": 18,
   "id": "729b6760",
   "metadata": {},
   "outputs": [
    {
     "name": "stdout",
     "output_type": "stream",
     "text": [
      "[(1, 2), (7, 3), (9, 4), (3, 8), (2, 9)]\n"
     ]
    }
   ],
   "source": [
    "def fun(element):\n",
    "    return element[1]\n",
    "lst = [(1,2),(7,3),(3,8),(9,4),(2,9)]\n",
    "lst= sorted(lst,key=fun)\n",
    "print(lst)"
   ]
  },
  {
   "cell_type": "code",
   "execution_count": 19,
   "id": "957e94ec",
   "metadata": {},
   "outputs": [
    {
     "name": "stdout",
     "output_type": "stream",
     "text": [
      "[(2, 9), (3, 8), (9, 4), (7, 3), (1, 2)]\n"
     ]
    }
   ],
   "source": [
    "def fun(element):\n",
    "    return element[1]\n",
    "lst = [(1,2),(7,3),(3,8),(9,4),(2,9)]\n",
    "lst= sorted(lst,key=fun,reverse=True)\n",
    "print(lst)"
   ]
  },
  {
   "cell_type": "markdown",
   "id": "c2e68d40",
   "metadata": {},
   "source": [
    "# Find the point closest to origin"
   ]
  },
  {
   "cell_type": "code",
   "execution_count": 20,
   "id": "5d252ba6",
   "metadata": {},
   "outputs": [
    {
     "name": "stdout",
     "output_type": "stream",
     "text": [
      "[4.123105625617661, 3.605551275463989, 1.4142135623730951, 5.385164807134504, 5.0, 6.4031242374328485]\n"
     ]
    }
   ],
   "source": [
    "lst =[(-4,1),(2,3),(1,1),(5,2),(4,-3),(-5,-4)]\n",
    "dist = []\n",
    "for element in lst:\n",
    "    d = (element[0]**2 + element[1]**2)**(1/2)\n",
    "    dist.append(d)\n",
    "print(dist)"
   ]
  },
  {
   "cell_type": "code",
   "execution_count": 46,
   "id": "9e9cdaca",
   "metadata": {},
   "outputs": [
    {
     "name": "stdout",
     "output_type": "stream",
     "text": [
      "(1, 1)\n"
     ]
    }
   ],
   "source": [
    "lst =[(-4,1),(2,3),(1,1),(5,2),(4,-3),(-5,-4)]\n",
    "dist = []\n",
    "for element in lst:\n",
    "    d = (element[0]**2 + element[1]**2)**(1/2)\n",
    "    dist.append((d,element))\n",
    "minimum = dist[0][0]\n",
    "coordinates = dist[0][1]\n",
    "for i in range(len(dist)):\n",
    "    if(dist[i][0]< minimum):\n",
    "        minium = dist[i][0]\n",
    "        coordinates = dist[i][1]\n",
    "# print(minimum)\n",
    "print(coordinates)"
   ]
  },
  {
   "cell_type": "code",
   "execution_count": 48,
   "id": "2c96e80c",
   "metadata": {},
   "outputs": [
    {
     "name": "stdout",
     "output_type": "stream",
     "text": [
      "[(1.4142135623730951, (1, 1)), (3.605551275463989, (2, 3)), (4.123105625617661, (-4, 1)), (5.0, (4, -3)), (5.385164807134504, (5, 2)), (6.4031242374328485, (-5, -4))]\n"
     ]
    }
   ],
   "source": [
    "lst =[(-4,1),(2,3),(1,1),(5,2),(4,-3),(-5,-4)]\n",
    "dist = []\n",
    "for element in lst:\n",
    "    d = (element[0]**2 + element[1]**2)**(1/2)\n",
    "    dist.append((d,element))\n",
    "dist.sort()\n",
    "print(dist)"
   ]
  },
  {
   "cell_type": "code",
   "execution_count": 24,
   "id": "0380761f",
   "metadata": {},
   "outputs": [
    {
     "name": "stdout",
     "output_type": "stream",
     "text": [
      "(1, 1)\n"
     ]
    }
   ],
   "source": [
    "lst =[(-4,1),(2,3),(1,1),(5,2),(4,-3),(-5,-4)]\n",
    "dist = []\n",
    "for element in lst:\n",
    "    d = (element[0]**2 + element[1]**2)**(1/2)\n",
    "    dist.append((d,element))\n",
    "dist.sort()\n",
    "print(dist[0][1])"
   ]
  },
  {
   "cell_type": "markdown",
   "id": "917bc320",
   "metadata": {},
   "source": [
    "# Find the point closest to X- axis"
   ]
  },
  {
   "cell_type": "code",
   "execution_count": 49,
   "id": "dfa6291a",
   "metadata": {},
   "outputs": [
    {
     "name": "stdout",
     "output_type": "stream",
     "text": [
      "(-4, 1)\n"
     ]
    }
   ],
   "source": [
    "lst =[(-4,1),(2,3),(1,3),(1,1),(5,2),(4,-3),(-5,-4)]\n",
    "dist = []\n",
    "for element in lst:\n",
    "    if(element[1]>=0):\n",
    "        d = element[1]\n",
    "    else:\n",
    "        d = -element[1]\n",
    "    dist.append((d,element))\n",
    "minimum = dist[0][0]\n",
    "coordinates = dist[0][1]\n",
    "for i in range(len(dist)):\n",
    "    if(dist[i][0]< minimum):\n",
    "        minium = dist[i][0]\n",
    "        coordinates = dist[i][1]\n",
    "# print(minimum)\n",
    "print(coordinates)"
   ]
  },
  {
   "cell_type": "code",
   "execution_count": 50,
   "id": "c0b3d419",
   "metadata": {},
   "outputs": [
    {
     "name": "stdout",
     "output_type": "stream",
     "text": [
      "(-4, 1)\n"
     ]
    }
   ],
   "source": [
    "lst =[(-4,1),(2,3),(1,3),(1,1),(5,2),(4,-3),(-5,-4)]\n",
    "dist = []\n",
    "for element in lst:\n",
    "    d = abs(element[1])\n",
    "    dist.append((d,element))\n",
    "minimum = dist[0][0]\n",
    "coordinates = dist[0][1]\n",
    "for i in range(len(dist)):\n",
    "    if(dist[i][0]< minimum):\n",
    "        minium = dist[i][0]\n",
    "        coordinates = dist[i][1]\n",
    "# print(minimum)\n",
    "print(coordinates)"
   ]
  },
  {
   "cell_type": "code",
   "execution_count": 27,
   "id": "2ae0f845",
   "metadata": {},
   "outputs": [
    {
     "data": {
      "text/plain": [
       "3"
      ]
     },
     "execution_count": 27,
     "metadata": {},
     "output_type": "execute_result"
    }
   ],
   "source": [
    "abs(-3)"
   ]
  },
  {
   "cell_type": "code",
   "execution_count": 28,
   "id": "ad40ad2b",
   "metadata": {},
   "outputs": [
    {
     "data": {
      "text/plain": [
       "7"
      ]
     },
     "execution_count": 28,
     "metadata": {},
     "output_type": "execute_result"
    }
   ],
   "source": [
    "abs(7)"
   ]
  },
  {
   "cell_type": "markdown",
   "id": "89d28d21",
   "metadata": {},
   "source": [
    "# Find the point closest to Y-axis"
   ]
  },
  {
   "cell_type": "code",
   "execution_count": 51,
   "id": "74b002f1",
   "metadata": {},
   "outputs": [
    {
     "name": "stdout",
     "output_type": "stream",
     "text": [
      "(1, 3)\n"
     ]
    }
   ],
   "source": [
    "lst =[(-4,1),(2,3),(1,3),(5,2),(4,-3),(-5,-4)]\n",
    "dist = []\n",
    "for element in lst:\n",
    "    if(element[0]>=0):\n",
    "        d = element[0]\n",
    "    else:\n",
    "        d = -element[0]\n",
    "    dist.append((d,element))\n",
    "dist.sort()\n",
    "print(dist[0][1])"
   ]
  },
  {
   "cell_type": "code",
   "execution_count": 52,
   "id": "6d85dd0e",
   "metadata": {},
   "outputs": [
    {
     "name": "stdout",
     "output_type": "stream",
     "text": [
      "(1, 3)\n"
     ]
    }
   ],
   "source": [
    "lst =[(-4,1),(2,3),(1,3),(5,2),(4,-3),(-5,-4)]\n",
    "dist = []\n",
    "for element in lst:\n",
    "    if(element[0]>=0):\n",
    "        d = element[0]\n",
    "    else:\n",
    "        d = -element[0]\n",
    "    dist.append((d,element))\n",
    "minimum = dist[0][0]\n",
    "coordinates = dist[0][1]\n",
    "for i in range(len(dist)):\n",
    "    if(dist[i][0]< minimum):\n",
    "        minium = dist[i][0]\n",
    "        coordinates = dist[i][1]\n",
    "# print(minimum)\n",
    "print(coordinates)"
   ]
  },
  {
   "cell_type": "code",
   "execution_count": 31,
   "id": "20d99f4a",
   "metadata": {},
   "outputs": [
    {
     "name": "stdout",
     "output_type": "stream",
     "text": [
      "(1, 3)\n"
     ]
    }
   ],
   "source": [
    "lst =[(-4,1),(2,3),(1,3),(5,2),(4,-3),(-5,-4)]\n",
    "dist = []\n",
    "for element in lst:\n",
    "    d = abs(element[0])\n",
    "    dist.append((d,element))\n",
    "dist.sort()\n",
    "print(dist[0][1])"
   ]
  },
  {
   "cell_type": "markdown",
   "id": "300b2f0a",
   "metadata": {},
   "source": [
    "# Find the point closest to the parallel to X-axis and passing through the point (2,3)"
   ]
  },
  {
   "cell_type": "code",
   "execution_count": 36,
   "id": "ef1f8cdf",
   "metadata": {},
   "outputs": [
    {
     "name": "stdout",
     "output_type": "stream",
     "text": [
      "(-2, 4)\n"
     ]
    }
   ],
   "source": [
    "lst= [(1,5),(-2,4),(-4,1),(-3,-2),(3,-4)]\n",
    "dist = []\n",
    "for element in lst:\n",
    "    if(element[1] >=3):\n",
    "        d = element[1] -3\n",
    "    else:\n",
    "        d = 3-element[1]\n",
    "    dist.append((d,element))\n",
    "dist.sort()\n",
    "print(dist[0][1])"
   ]
  },
  {
   "cell_type": "code",
   "execution_count": 38,
   "id": "51e60f14",
   "metadata": {},
   "outputs": [
    {
     "name": "stdout",
     "output_type": "stream",
     "text": [
      "(-2, 4)\n"
     ]
    }
   ],
   "source": [
    "lst= [(1,5),(-2,4),(-4,1),(-3,-2),(3,-4)]\n",
    "dist = []\n",
    "for element in lst:\n",
    "    d = abs(element[1] -3)\n",
    "    dist.append((d,element))\n",
    "dist.sort()\n",
    "print(dist[0][1])"
   ]
  },
  {
   "cell_type": "code",
   "execution_count": 45,
   "id": "b062fbff",
   "metadata": {},
   "outputs": [
    {
     "name": "stdout",
     "output_type": "stream",
     "text": [
      "(-2, 4)\n"
     ]
    }
   ],
   "source": [
    "lst= [(1,5),(-2,4),(-4,1),(-3,-2),(3,-4)]\n",
    "dist = []\n",
    "for element in lst:\n",
    "    d = abs(element[1] -3)\n",
    "    dist.append((d,element))\n",
    "# print(dist)\n",
    "minimum = dist[0][0]\n",
    "coordinates = dist[0][1]\n",
    "for i in range(len(dist)):\n",
    "    if(dist[i][0]< minimum):\n",
    "        minium = dist[i][0]\n",
    "        coordinates = dist[i][1]\n",
    "# print(minimum)\n",
    "print(coordinates)"
   ]
  },
  {
   "cell_type": "markdown",
   "id": "caa9fdc6",
   "metadata": {},
   "source": [
    "# Find the point closest to the parallel to Y-axis and passing through the point (2,3)"
   ]
  },
  {
   "cell_type": "code",
   "execution_count": 33,
   "id": "90e2f6b0",
   "metadata": {},
   "outputs": [],
   "source": [
    "# Homework"
   ]
  },
  {
   "cell_type": "markdown",
   "id": "d50bec1d",
   "metadata": {},
   "source": [
    "# Set"
   ]
  },
  {
   "cell_type": "code",
   "execution_count": 53,
   "id": "22a4f604",
   "metadata": {},
   "outputs": [
    {
     "name": "stdout",
     "output_type": "stream",
     "text": [
      "{1, 2, 3, 4, 5}\n"
     ]
    }
   ],
   "source": [
    "myset = {1,2,3,4,5}\n",
    "print(myset)"
   ]
  },
  {
   "cell_type": "code",
   "execution_count": 54,
   "id": "9d09cf4b",
   "metadata": {},
   "outputs": [
    {
     "name": "stdout",
     "output_type": "stream",
     "text": [
      "{1, 2, 3, 4, 5, 6}\n"
     ]
    }
   ],
   "source": [
    "myset.add(6)\n",
    "print(myset)"
   ]
  },
  {
   "cell_type": "code",
   "execution_count": 55,
   "id": "88790286",
   "metadata": {},
   "outputs": [
    {
     "name": "stdout",
     "output_type": "stream",
     "text": [
      "{1, 2, 4, 5, 6}\n"
     ]
    }
   ],
   "source": [
    "myset.remove(3)\n",
    "print(myset)"
   ]
  },
  {
   "cell_type": "code",
   "execution_count": 57,
   "id": "c4c55d92",
   "metadata": {},
   "outputs": [
    {
     "ename": "AttributeError",
     "evalue": "'dict' object has no attribute 'add'",
     "output_type": "error",
     "traceback": [
      "\u001b[1;31m---------------------------------------------------------------------------\u001b[0m",
      "\u001b[1;31mAttributeError\u001b[0m                            Traceback (most recent call last)",
      "Input \u001b[1;32mIn [57]\u001b[0m, in \u001b[0;36m<cell line: 2>\u001b[1;34m()\u001b[0m\n\u001b[0;32m      1\u001b[0m myset \u001b[38;5;241m=\u001b[39m {}       \u001b[38;5;66;03m# This will be considered as an empty dictionary\u001b[39;00m\n\u001b[1;32m----> 2\u001b[0m \u001b[43mmyset\u001b[49m\u001b[38;5;241;43m.\u001b[39;49m\u001b[43madd\u001b[49m(\u001b[38;5;241m7\u001b[39m)     \u001b[38;5;66;03m# AttributeError: 'dict' object has no attribute 'add'\u001b[39;00m\n\u001b[0;32m      3\u001b[0m \u001b[38;5;28mprint\u001b[39m(myset)\n",
      "\u001b[1;31mAttributeError\u001b[0m: 'dict' object has no attribute 'add'"
     ]
    }
   ],
   "source": [
    "myset = {}       # This will be considered as an empty dictionary\n",
    "myset.add(7)     # AttributeError: 'dict' object has no attribute 'add'\n",
    "print(myset)"
   ]
  },
  {
   "cell_type": "code",
   "execution_count": 58,
   "id": "e78f4276",
   "metadata": {},
   "outputs": [
    {
     "name": "stdout",
     "output_type": "stream",
     "text": [
      "{7}\n"
     ]
    }
   ],
   "source": [
    "myset = set()\n",
    "myset.add(7)\n",
    "print(myset)"
   ]
  },
  {
   "cell_type": "code",
   "execution_count": 59,
   "id": "3a4512b1",
   "metadata": {},
   "outputs": [
    {
     "name": "stdout",
     "output_type": "stream",
     "text": [
      "{1, 2, 3, 4, 5, 6, 7, 8, 9}\n"
     ]
    }
   ],
   "source": [
    "myset = {1,2,3,4,5}\n",
    "myset.update([6,7,8,9])\n",
    "print(myset)"
   ]
  },
  {
   "cell_type": "code",
   "execution_count": 60,
   "id": "2923b89d",
   "metadata": {},
   "outputs": [
    {
     "name": "stdout",
     "output_type": "stream",
     "text": [
      "{1, 2, 3, 4, 5, 6, 7, 8, 9}\n"
     ]
    }
   ],
   "source": [
    "myset = {1,2,3,4,5}\n",
    "myset.update((6,7,8,9))\n",
    "print(myset)"
   ]
  },
  {
   "cell_type": "code",
   "execution_count": 61,
   "id": "8c857332",
   "metadata": {},
   "outputs": [
    {
     "name": "stdout",
     "output_type": "stream",
     "text": [
      "{1, 2, 3, 4, 5, 6, 7, 8, 9}\n"
     ]
    }
   ],
   "source": [
    "myset = {1,2,3,4,5}\n",
    "myset.update({6,7,8,9})\n",
    "print(myset)"
   ]
  },
  {
   "cell_type": "code",
   "execution_count": 63,
   "id": "dffdce7c",
   "metadata": {},
   "outputs": [
    {
     "name": "stdout",
     "output_type": "stream",
     "text": [
      "{1, 2, 4, 5}\n"
     ]
    }
   ],
   "source": [
    "myset = {1,2,3,4,5}\n",
    "myset.remove(3)\n",
    "print(myset)"
   ]
  },
  {
   "cell_type": "code",
   "execution_count": 64,
   "id": "7d456f07",
   "metadata": {},
   "outputs": [
    {
     "data": {
      "text/plain": [
       "set"
      ]
     },
     "execution_count": 64,
     "metadata": {},
     "output_type": "execute_result"
    }
   ],
   "source": [
    "type(myset)"
   ]
  },
  {
   "cell_type": "code",
   "execution_count": 65,
   "id": "89cc5156",
   "metadata": {},
   "outputs": [
    {
     "name": "stdout",
     "output_type": "stream",
     "text": [
      "<class 'set'>\n"
     ]
    }
   ],
   "source": [
    "print(type(myset))"
   ]
  },
  {
   "cell_type": "code",
   "execution_count": 66,
   "id": "aa86593a",
   "metadata": {},
   "outputs": [
    {
     "name": "stdout",
     "output_type": "stream",
     "text": [
      "<class 'set'>\n"
     ]
    },
    {
     "ename": "KeyError",
     "evalue": "3",
     "output_type": "error",
     "traceback": [
      "\u001b[1;31m---------------------------------------------------------------------------\u001b[0m",
      "\u001b[1;31mKeyError\u001b[0m                                  Traceback (most recent call last)",
      "Input \u001b[1;32mIn [66]\u001b[0m, in \u001b[0;36m<cell line: 4>\u001b[1;34m()\u001b[0m\n\u001b[0;32m      2\u001b[0m myset \u001b[38;5;241m=\u001b[39m {\u001b[38;5;241m1\u001b[39m,\u001b[38;5;241m2\u001b[39m,\u001b[38;5;241m3\u001b[39m,\u001b[38;5;241m4\u001b[39m,\u001b[38;5;241m5\u001b[39m}\n\u001b[0;32m      3\u001b[0m myset\u001b[38;5;241m.\u001b[39mremove(\u001b[38;5;241m3\u001b[39m)  \n\u001b[1;32m----> 4\u001b[0m \u001b[43mmyset\u001b[49m\u001b[38;5;241;43m.\u001b[39;49m\u001b[43mremove\u001b[49m\u001b[43m(\u001b[49m\u001b[38;5;241;43m3\u001b[39;49m\u001b[43m)\u001b[49m  \n\u001b[0;32m      5\u001b[0m \u001b[38;5;28mprint\u001b[39m(myset)\n",
      "\u001b[1;31mKeyError\u001b[0m: 3"
     ]
    }
   ],
   "source": [
    "print(type(myset))\n",
    "myset = {1,2,3,4,5}\n",
    "myset.remove(3)  \n",
    "myset.remove(3)  \n",
    "print(myset)"
   ]
  },
  {
   "cell_type": "code",
   "execution_count": 67,
   "id": "eccc970d",
   "metadata": {},
   "outputs": [
    {
     "ename": "KeyError",
     "evalue": "3",
     "output_type": "error",
     "traceback": [
      "\u001b[1;31m---------------------------------------------------------------------------\u001b[0m",
      "\u001b[1;31mKeyError\u001b[0m                                  Traceback (most recent call last)",
      "Input \u001b[1;32mIn [67]\u001b[0m, in \u001b[0;36m<cell line: 1>\u001b[1;34m()\u001b[0m\n\u001b[1;32m----> 1\u001b[0m \u001b[43mmyset\u001b[49m\u001b[38;5;241;43m.\u001b[39;49m\u001b[43mremove\u001b[49m\u001b[43m(\u001b[49m\u001b[38;5;241;43m3\u001b[39;49m\u001b[43m)\u001b[49m      \n\u001b[0;32m      2\u001b[0m \u001b[38;5;66;03m# If you execute this more than once, you will get error because 3 will not be present after removing it once.\u001b[39;00m\n\u001b[0;32m      3\u001b[0m \u001b[38;5;28mprint\u001b[39m(myset)\n",
      "\u001b[1;31mKeyError\u001b[0m: 3"
     ]
    }
   ],
   "source": [
    "myset.remove(3)      \n",
    "# If you execute this more than once, you will get error because 3 will not be present after removing it once.\n",
    "print(myset)"
   ]
  },
  {
   "cell_type": "code",
   "execution_count": 68,
   "id": "b9c1ca9a",
   "metadata": {},
   "outputs": [
    {
     "name": "stdout",
     "output_type": "stream",
     "text": [
      "{1, 2, 4, 5}\n"
     ]
    }
   ],
   "source": [
    "myset = {1,2,3,4,5}\n",
    "myset.discard(3)\n",
    "myset.discard(3)\n",
    "print(myset)"
   ]
  },
  {
   "cell_type": "code",
   "execution_count": 69,
   "id": "46283682",
   "metadata": {},
   "outputs": [
    {
     "data": {
      "text/plain": [
       "1"
      ]
     },
     "execution_count": 69,
     "metadata": {},
     "output_type": "execute_result"
    }
   ],
   "source": [
    "myset = {1,2,3,4,5}\n",
    "myset.pop()"
   ]
  },
  {
   "cell_type": "code",
   "execution_count": 70,
   "id": "9db0748c",
   "metadata": {},
   "outputs": [
    {
     "ename": "TypeError",
     "evalue": "'set' object is not subscriptable",
     "output_type": "error",
     "traceback": [
      "\u001b[1;31m---------------------------------------------------------------------------\u001b[0m",
      "\u001b[1;31mTypeError\u001b[0m                                 Traceback (most recent call last)",
      "Input \u001b[1;32mIn [70]\u001b[0m, in \u001b[0;36m<cell line: 2>\u001b[1;34m()\u001b[0m\n\u001b[0;32m      1\u001b[0m myset \u001b[38;5;241m=\u001b[39m {\u001b[38;5;241m1\u001b[39m,\u001b[38;5;241m2\u001b[39m,\u001b[38;5;241m3\u001b[39m,\u001b[38;5;241m4\u001b[39m,\u001b[38;5;241m5\u001b[39m}\n\u001b[1;32m----> 2\u001b[0m \u001b[38;5;28mprint\u001b[39m(\u001b[43mmyset\u001b[49m\u001b[43m[\u001b[49m\u001b[38;5;241;43m0\u001b[39;49m\u001b[43m]\u001b[49m)\n",
      "\u001b[1;31mTypeError\u001b[0m: 'set' object is not subscriptable"
     ]
    }
   ],
   "source": [
    "myset = {1,2,3,4,5}\n",
    "print(myset[0])         # TypeError: 'set' object is not subscriptable"
   ]
  },
  {
   "cell_type": "code",
   "execution_count": 71,
   "id": "e3f867d9",
   "metadata": {},
   "outputs": [
    {
     "ename": "TypeError",
     "evalue": "'set' object does not support item assignment",
     "output_type": "error",
     "traceback": [
      "\u001b[1;31m---------------------------------------------------------------------------\u001b[0m",
      "\u001b[1;31mTypeError\u001b[0m                                 Traceback (most recent call last)",
      "Input \u001b[1;32mIn [71]\u001b[0m, in \u001b[0;36m<cell line: 2>\u001b[1;34m()\u001b[0m\n\u001b[0;32m      1\u001b[0m myset \u001b[38;5;241m=\u001b[39m {\u001b[38;5;241m1\u001b[39m,\u001b[38;5;241m2\u001b[39m,\u001b[38;5;241m3\u001b[39m,\u001b[38;5;241m4\u001b[39m,\u001b[38;5;241m5\u001b[39m}      \u001b[38;5;66;03m# Immutable\u001b[39;00m\n\u001b[1;32m----> 2\u001b[0m myset[\u001b[38;5;241m0\u001b[39m] \u001b[38;5;241m=\u001b[39m \u001b[38;5;241m7\u001b[39m\n",
      "\u001b[1;31mTypeError\u001b[0m: 'set' object does not support item assignment"
     ]
    }
   ],
   "source": [
    "myset = {1,2,3,4,5}      # Immutable\n",
    "myset[0] = 7             # TypeError: 'set' object does not support item assignment"
   ]
  },
  {
   "cell_type": "code",
   "execution_count": 72,
   "id": "b4651733",
   "metadata": {},
   "outputs": [
    {
     "name": "stdout",
     "output_type": "stream",
     "text": [
      "1\n",
      "2\n",
      "3\n",
      "4\n",
      "5\n"
     ]
    }
   ],
   "source": [
    "myset = {1,2,3,4,5}\n",
    "for element in myset:\n",
    "    print(element)"
   ]
  },
  {
   "cell_type": "code",
   "execution_count": 73,
   "id": "284db52e",
   "metadata": {},
   "outputs": [
    {
     "ename": "TypeError",
     "evalue": "'set' object is not subscriptable",
     "output_type": "error",
     "traceback": [
      "\u001b[1;31m---------------------------------------------------------------------------\u001b[0m",
      "\u001b[1;31mTypeError\u001b[0m                                 Traceback (most recent call last)",
      "Input \u001b[1;32mIn [73]\u001b[0m, in \u001b[0;36m<cell line: 2>\u001b[1;34m()\u001b[0m\n\u001b[0;32m      1\u001b[0m myset \u001b[38;5;241m=\u001b[39m {\u001b[38;5;241m1\u001b[39m,\u001b[38;5;241m2\u001b[39m,\u001b[38;5;241m3\u001b[39m,\u001b[38;5;241m4\u001b[39m,\u001b[38;5;241m5\u001b[39m}\n\u001b[0;32m      2\u001b[0m \u001b[38;5;28;01mfor\u001b[39;00m i \u001b[38;5;129;01min\u001b[39;00m \u001b[38;5;28mrange\u001b[39m(\u001b[38;5;28mlen\u001b[39m(myset)):\n\u001b[1;32m----> 3\u001b[0m     \u001b[38;5;28mprint\u001b[39m(\u001b[43mmyset\u001b[49m\u001b[43m[\u001b[49m\u001b[43mi\u001b[49m\u001b[43m]\u001b[49m)\n",
      "\u001b[1;31mTypeError\u001b[0m: 'set' object is not subscriptable"
     ]
    }
   ],
   "source": [
    "myset = {1,2,3,4,5}\n",
    "for i in range(len(myset)):\n",
    "    print(myset[i])            # TypeError: 'set' object is not subscriptable"
   ]
  },
  {
   "cell_type": "markdown",
   "id": "04209ea8",
   "metadata": {},
   "source": [
    "# Dictionary"
   ]
  },
  {
   "cell_type": "code",
   "execution_count": 74,
   "id": "4bfb54ce",
   "metadata": {},
   "outputs": [
    {
     "name": "stdout",
     "output_type": "stream",
     "text": [
      "{1: 'abc', 2: 'def', 3: 'ghi'}\n"
     ]
    }
   ],
   "source": [
    "dictX = {1 : 'abc', 2 : 'def', 3 : 'ghi'}\n",
    "print(dictX)"
   ]
  },
  {
   "cell_type": "code",
   "execution_count": 75,
   "id": "cc787c41",
   "metadata": {},
   "outputs": [
    {
     "data": {
      "text/plain": [
       "'def'"
      ]
     },
     "execution_count": 75,
     "metadata": {},
     "output_type": "execute_result"
    }
   ],
   "source": [
    "dictX[2]"
   ]
  },
  {
   "cell_type": "code",
   "execution_count": 76,
   "id": "c92d7b2b",
   "metadata": {},
   "outputs": [
    {
     "data": {
      "text/plain": [
       "dict_keys([1, 2, 3])"
      ]
     },
     "execution_count": 76,
     "metadata": {},
     "output_type": "execute_result"
    }
   ],
   "source": [
    "dictX.keys()"
   ]
  },
  {
   "cell_type": "code",
   "execution_count": 77,
   "id": "3a812151",
   "metadata": {},
   "outputs": [
    {
     "data": {
      "text/plain": [
       "dict_values(['abc', 'def', 'ghi'])"
      ]
     },
     "execution_count": 77,
     "metadata": {},
     "output_type": "execute_result"
    }
   ],
   "source": [
    "dictX.values()"
   ]
  },
  {
   "cell_type": "code",
   "execution_count": 80,
   "id": "bb3ca304",
   "metadata": {},
   "outputs": [
    {
     "data": {
      "text/plain": [
       "[1, 2, 3]"
      ]
     },
     "execution_count": 80,
     "metadata": {},
     "output_type": "execute_result"
    }
   ],
   "source": [
    "list(dictX)"
   ]
  },
  {
   "cell_type": "code",
   "execution_count": 81,
   "id": "c6229869",
   "metadata": {},
   "outputs": [
    {
     "data": {
      "text/plain": [
       "dict_values(['abc', 'def', 'ghi'])"
      ]
     },
     "execution_count": 81,
     "metadata": {},
     "output_type": "execute_result"
    }
   ],
   "source": [
    "dictX.values()"
   ]
  },
  {
   "cell_type": "code",
   "execution_count": 82,
   "id": "b425f95b",
   "metadata": {},
   "outputs": [
    {
     "data": {
      "text/plain": [
       "dict_values"
      ]
     },
     "execution_count": 82,
     "metadata": {},
     "output_type": "execute_result"
    }
   ],
   "source": [
    "type(dictX.values())"
   ]
  },
  {
   "cell_type": "code",
   "execution_count": 83,
   "id": "3fefc3cb",
   "metadata": {},
   "outputs": [
    {
     "data": {
      "text/plain": [
       "['abc', 'def', 'ghi']"
      ]
     },
     "execution_count": 83,
     "metadata": {},
     "output_type": "execute_result"
    }
   ],
   "source": [
    "list(dictX.values())"
   ]
  },
  {
   "cell_type": "code",
   "execution_count": 84,
   "id": "f160a29e",
   "metadata": {},
   "outputs": [
    {
     "name": "stdout",
     "output_type": "stream",
     "text": [
      "Key : 1 ; Value : abc\n",
      "Key : 2 ; Value : def\n",
      "Key : 3 ; Value : ghi\n"
     ]
    }
   ],
   "source": [
    "dictX = {1 : 'abc', 2 : 'def', 3 : 'ghi'}\n",
    "for key in dictX:\n",
    "    print(f'Key : {key} ; Value : {dictX[key]}')"
   ]
  },
  {
   "cell_type": "code",
   "execution_count": 85,
   "id": "a6811eb0",
   "metadata": {},
   "outputs": [
    {
     "name": "stdout",
     "output_type": "stream",
     "text": [
      "{1: 'abc', 3: 'ghi'}\n"
     ]
    }
   ],
   "source": [
    "dictX = {1 : 'abc', 2 : 'def', 3 : 'ghi'}\n",
    "dictX.pop(2)\n",
    "print(dictX)"
   ]
  },
  {
   "cell_type": "code",
   "execution_count": 86,
   "id": "1b511e23",
   "metadata": {},
   "outputs": [
    {
     "ename": "TypeError",
     "evalue": "pop expected at least 1 argument, got 0",
     "output_type": "error",
     "traceback": [
      "\u001b[1;31m---------------------------------------------------------------------------\u001b[0m",
      "\u001b[1;31mTypeError\u001b[0m                                 Traceback (most recent call last)",
      "Input \u001b[1;32mIn [86]\u001b[0m, in \u001b[0;36m<cell line: 2>\u001b[1;34m()\u001b[0m\n\u001b[0;32m      1\u001b[0m dictX \u001b[38;5;241m=\u001b[39m {\u001b[38;5;241m1\u001b[39m : \u001b[38;5;124m'\u001b[39m\u001b[38;5;124mabc\u001b[39m\u001b[38;5;124m'\u001b[39m, \u001b[38;5;241m2\u001b[39m : \u001b[38;5;124m'\u001b[39m\u001b[38;5;124mdef\u001b[39m\u001b[38;5;124m'\u001b[39m, \u001b[38;5;241m3\u001b[39m : \u001b[38;5;124m'\u001b[39m\u001b[38;5;124mghi\u001b[39m\u001b[38;5;124m'\u001b[39m}\n\u001b[1;32m----> 2\u001b[0m \u001b[43mdictX\u001b[49m\u001b[38;5;241;43m.\u001b[39;49m\u001b[43mpop\u001b[49m\u001b[43m(\u001b[49m\u001b[43m)\u001b[49m     \u001b[38;5;66;03m# TypeError: pop expected at least 1 argument, got 0\u001b[39;00m\n\u001b[0;32m      3\u001b[0m \u001b[38;5;28mprint\u001b[39m(dictX)\n",
      "\u001b[1;31mTypeError\u001b[0m: pop expected at least 1 argument, got 0"
     ]
    }
   ],
   "source": [
    "dictX = {1 : 'abc', 2 : 'def', 3 : 'ghi'}\n",
    "dictX.pop()     # TypeError: pop expected at least 1 argument, got 0\n",
    "print(dictX)"
   ]
  },
  {
   "cell_type": "code",
   "execution_count": 87,
   "id": "6ce532cf",
   "metadata": {},
   "outputs": [
    {
     "name": "stdout",
     "output_type": "stream",
     "text": [
      "{1: 'abc', 2: 'def', 3: 'ghi', 4: 'xyz'}\n"
     ]
    }
   ],
   "source": [
    "dictX = {1 : 'abc', 2 : 'def', 3 : 'ghi'}\n",
    "dictX.update({4 : 'xyz'})\n",
    "print(dictX)"
   ]
  },
  {
   "cell_type": "code",
   "execution_count": 89,
   "id": "8e897ac1",
   "metadata": {},
   "outputs": [
    {
     "data": {
      "text/plain": [
       "{1: 'abc', 2: 'def', 3: 'ghi', 4: 'xyz'}"
      ]
     },
     "execution_count": 89,
     "metadata": {},
     "output_type": "execute_result"
    }
   ],
   "source": [
    "dictX"
   ]
  },
  {
   "cell_type": "code",
   "execution_count": 92,
   "id": "f418face",
   "metadata": {},
   "outputs": [
    {
     "name": "stdout",
     "output_type": "stream",
     "text": [
      "{1: 4, 4: 2, 2: 2, 5: 'rishabh', 6: 1, 7: 1}\n"
     ]
    }
   ],
   "source": [
    "dictX[5] = 'rishabh'\n",
    "print(dictX)"
   ]
  },
  {
   "cell_type": "markdown",
   "id": "c819fe29",
   "metadata": {},
   "source": [
    "# Find the frequency of each element in the list"
   ]
  },
  {
   "cell_type": "code",
   "execution_count": 91,
   "id": "724b6bfc",
   "metadata": {},
   "outputs": [
    {
     "name": "stdout",
     "output_type": "stream",
     "text": [
      "{1: 4, 4: 2, 2: 2, 5: 1, 6: 1, 7: 1}\n"
     ]
    }
   ],
   "source": [
    "lst = [1,4,2,5,1,6,2,1,7,4,1]\n",
    "dictX = {}\n",
    "for element in lst:\n",
    "    if(element in dictX):\n",
    "        dictX[element]+=1\n",
    "    else:\n",
    "        dictX[element] = 1\n",
    "print(dictX)"
   ]
  },
  {
   "cell_type": "code",
   "execution_count": null,
   "id": "f0eb2def",
   "metadata": {},
   "outputs": [],
   "source": []
  }
 ],
 "metadata": {
  "kernelspec": {
   "display_name": "Python 3 (ipykernel)",
   "language": "python",
   "name": "python3"
  },
  "language_info": {
   "codemirror_mode": {
    "name": "ipython",
    "version": 3
   },
   "file_extension": ".py",
   "mimetype": "text/x-python",
   "name": "python",
   "nbconvert_exporter": "python",
   "pygments_lexer": "ipython3",
   "version": "3.9.12"
  }
 },
 "nbformat": 4,
 "nbformat_minor": 5
}
