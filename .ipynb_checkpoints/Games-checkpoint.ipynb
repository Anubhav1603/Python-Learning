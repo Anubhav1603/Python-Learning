{
 "cells": [
  {
   "cell_type": "markdown",
   "id": "d123c56d",
   "metadata": {},
   "source": [
    "# Tic-Tac-Toe"
   ]
  },
  {
   "cell_type": "code",
   "execution_count": 1,
   "id": "b7d5c51c",
   "metadata": {},
   "outputs": [],
   "source": [
    "from IPython.display import clear_output\n",
    "#display board\n",
    "def display(n_list):\n",
    "    clear_output()\n",
    "    print(\"* Tic Tac Toe *\")\n",
    "    print('----------------')\n",
    "    print('| ',n_list[7], '| ',n_list[8], '| ',n_list[9], '|')\n",
    "    print('----------------')\n",
    "    print('| ',n_list[4], '| ',n_list[5], '| ',n_list[6], '|')\n",
    "    print('----------------')\n",
    "    print('| ',n_list[1], '| ',n_list[2], '| ',n_list[3], '|')\n",
    "    print('----------------')\n",
    "    #print('*Raman Classes*')   \n",
    "    print('* Raman Classes *')"
   ]
  },
  {
   "cell_type": "code",
   "execution_count": 2,
   "id": "a80bf785",
   "metadata": {},
   "outputs": [],
   "source": [
    "#Check Board for dummy input\n",
    "# n_lst = ['Dummy',1,2,3,4,5,6,7,8,9]\n",
    "# display(n_lst)"
   ]
  },
  {
   "cell_type": "code",
   "execution_count": 3,
   "id": "0f8acda2",
   "metadata": {},
   "outputs": [
    {
     "name": "stdout",
     "output_type": "stream",
     "text": [
      "* Tic Tac Toe *\n",
      "----------------\n",
      "|    |    |    |\n",
      "----------------\n",
      "|    |    |    |\n",
      "----------------\n",
      "|    |    |    |\n",
      "----------------\n",
      "* Raman Classes *\n",
      "[' ', ' ', ' ', ' ', ' ', ' ', ' ', ' ', ' ', ' ']\n"
     ]
    }
   ],
   "source": [
    "#Check board for dummy inputs\n",
    "n_list = [' '] * 10\n",
    "display(n_list)\n",
    "print(n_list)"
   ]
  },
  {
   "cell_type": "code",
   "execution_count": 4,
   "id": "3290a61a",
   "metadata": {},
   "outputs": [
    {
     "name": "stdout",
     "output_type": "stream",
     "text": [
      "* Tic Tac Toe *\n",
      "----------------\n",
      "|  X |  X |    |\n",
      "----------------\n",
      "|  X |  X |  X |\n",
      "----------------\n",
      "|  X |  X |  X |\n",
      "----------------\n",
      "* Raman Classes *\n"
     ]
    }
   ],
   "source": [
    "#Check board for 'X' input\n",
    "n_lst = [' '] * 10\n",
    "for i in range(9):\n",
    "    temp = int(input('Enter the input: '))\n",
    "    n_lst[temp] = 'X'\n",
    "    display(n_lst)"
   ]
  },
  {
   "cell_type": "code",
   "execution_count": 5,
   "id": "edb125ee",
   "metadata": {},
   "outputs": [
    {
     "name": "stdout",
     "output_type": "stream",
     "text": [
      "* Tic Tac Toe *\n",
      "----------------\n",
      "|  X |  O |  X |\n",
      "----------------\n",
      "|  O |  X |  O |\n",
      "----------------\n",
      "|  X |  O |  X |\n",
      "----------------\n",
      "* Raman Classes *\n"
     ]
    }
   ],
   "source": [
    "#Check board for alternate 'X' and 'O' inputs\n",
    "n_lst = [' '] * 10\n",
    "for i in range(9):\n",
    "    if(i%2==0):\n",
    "        temp = int(input('Enter the input: '))\n",
    "        n_lst[temp] = 'X'\n",
    "        display(n_lst)\n",
    "    else:\n",
    "        temp = int(input('Enter the input: '))\n",
    "        n_lst[temp] = 'O'\n",
    "        display(n_lst)"
   ]
  },
  {
   "cell_type": "code",
   "execution_count": 6,
   "id": "a03ddb7b",
   "metadata": {},
   "outputs": [],
   "source": [
    "#Check winning Condition\n",
    "#Winning cases -1,2,3 -4,5,6 - 7,8,9 - 1,4,7 - 2,5,8 - 3,6,9 - 1,5,9 - \n",
    "# 3,5,7\n",
    "#Check all the 8 cases\n",
    "def check_winning_condition(mark, n_lst):\n",
    "    if(((n_lst[1] == mark) and (n_lst[2] == mark) and (n_lst[3] == mark)) or\n",
    "      ((n_lst[4] == mark) and (n_lst[5] == mark) and (n_lst[6] == mark)) or\n",
    "      ((n_lst[7] == mark) and (n_lst[8] == mark) and (n_lst[9] == mark)) or\n",
    "      ((n_lst[1] == mark) and (n_lst[4] == mark) and (n_lst[7] == mark)) or\n",
    "      ((n_lst[2] == mark) and (n_lst[5] == mark) and (n_lst[8] == mark)) or\n",
    "      ((n_lst[3] == mark) and (n_lst[6] == mark) and (n_lst[9] == mark)) or\n",
    "      ((n_lst[1] == mark) and (n_lst[5] == mark) and (n_lst[9] == mark)) or\n",
    "      ((n_lst[3] == mark) and (n_lst[5] == mark) and (n_lst[7] == mark))):\n",
    "        return 1\n",
    "    else:\n",
    "        return 0"
   ]
  },
  {
   "cell_type": "code",
   "execution_count": 7,
   "id": "3a6ec606",
   "metadata": {},
   "outputs": [
    {
     "name": "stdout",
     "output_type": "stream",
     "text": [
      "* Tic Tac Toe *\n",
      "----------------\n",
      "|  X |    |    |\n",
      "----------------\n",
      "|  O |  X |  O |\n",
      "----------------\n",
      "|  X |  O |  X |\n",
      "----------------\n",
      "* Raman Classes *\n",
      "Hurray! Player1 won!\n"
     ]
    }
   ],
   "source": [
    "#Play and check for Player1 and Player2\n",
    "#Winning and Match Tie status is displayed in the end\n",
    "n_lst = [' '] * 10\n",
    "for i in range(9):\n",
    "    temp = int(input('Enter the input: '))\n",
    "    if(i%2==0):\n",
    "        n_lst[temp] = 'X'\n",
    "        mark = 'X'\n",
    "        temp1 = check_winning_condition(mark, n_lst)\n",
    "    else:\n",
    "        n_lst[temp] = 'O'\n",
    "        mark = 'O'\n",
    "        temp1 = check_winning_condition(mark, n_lst)\n",
    "    display(n_lst)\n",
    "    if(temp1 == 1):\n",
    "        break\n",
    "if(temp1 == 1):\n",
    "    if(i%2==0):\n",
    "         print(\"Hurray! Player1 won!\")\n",
    "    else:\n",
    "        print(\"Hurray! Player2 won!\")\n",
    "else:\n",
    "    print('There is a Tie.')"
   ]
  },
  {
   "cell_type": "code",
   "execution_count": 12,
   "id": "128d6916",
   "metadata": {},
   "outputs": [
    {
     "name": "stdout",
     "output_type": "stream",
     "text": [
      "* Tic Tac Toe *\n",
      "----------------\n",
      "|  X |    |    |\n",
      "----------------\n",
      "|  O |  X |  O |\n",
      "----------------\n",
      "|  X |  O |  X |\n",
      "----------------\n",
      "* Raman Classes *\n",
      "Hurray! Player1 won!\n",
      "Do you want to play again?: no\n"
     ]
    }
   ],
   "source": [
    "#Add option for replaying\n",
    "while(True):\n",
    "    n_lst = [' '] * 10\n",
    "    for i in range(9):\n",
    "        temp = int(input('Enter the input: '))\n",
    "        if(i%2==0):\n",
    "            n_lst[temp] = 'X'\n",
    "            mark = 'X'\n",
    "            temp1 = check_winning_condition(mark, n_lst)\n",
    "        else:\n",
    "            n_lst[temp] = 'O'\n",
    "            mark = 'O'\n",
    "            temp1 = check_winning_condition(mark, n_lst)\n",
    "        display(n_lst)\n",
    "        if(temp1 == 1):\n",
    "            break\n",
    "    if(temp1 == 1):\n",
    "        if(i%2==0):\n",
    "             print(\"Hurray! Player1 won!\")\n",
    "        else:\n",
    "            print(\"Hurray! Player2 won!\")\n",
    "    else:\n",
    "        print('There is a Tie.')\n",
    "    replay_status = input('Do you want to play again?: ')\n",
    "    if replay_status == 'no':\n",
    "        print('Exiting.......................')\n",
    "        break"
   ]
  },
  {
   "cell_type": "markdown",
   "id": "3ed0baf0",
   "metadata": {},
   "source": []
  },
  {
   "cell_type": "code",
   "execution_count": null,
   "id": "c303e98f",
   "metadata": {},
   "outputs": [],
   "source": []
  }
 ],
 "metadata": {
  "kernelspec": {
   "display_name": "Python 3 (ipykernel)",
   "language": "python",
   "name": "python3"
  },
  "language_info": {
   "codemirror_mode": {
    "name": "ipython",
    "version": 3
   },
   "file_extension": ".py",
   "mimetype": "text/x-python",
   "name": "python",
   "nbconvert_exporter": "python",
   "pygments_lexer": "ipython3",
   "version": "3.9.12"
  }
 },
 "nbformat": 4,
 "nbformat_minor": 5
}
