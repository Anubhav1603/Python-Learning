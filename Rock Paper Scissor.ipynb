{
 "cells": [
  {
   "cell_type": "code",
   "execution_count": 5,
   "id": "1f2755bf",
   "metadata": {
    "scrolled": true
   },
   "outputs": [
    {
     "name": "stdout",
     "output_type": "stream",
     "text": [
      "Rock - Paper - Scissor\n",
      "Enter 'Rock' or 'Paper' or 'Scissors'Rock\n",
      "\n",
      "User choice = Rock\n",
      "Computer choice = Paper\n",
      "Computer Won!\n"
     ]
    }
   ],
   "source": [
    "import numpy as np\n",
    "print('Rock - Paper - Scissor')\n",
    "user_choice = input(\"Enter 'Rock' or 'Paper' or 'Scissors'\")\n",
    "computer_choice = np.random.randint(3)\n",
    "if(computer_choice == 0):\n",
    "    computer_choice = 'Rock'\n",
    "elif(computer_choice == 1):\n",
    "    computer_choice = 'Paper'\n",
    "else:\n",
    "    computer_choice = 'Scissors'\n",
    "print()\n",
    "print(f\"User choice = {user_choice}\")\n",
    "print(f\"Computer choice = {computer_choice}\")\n",
    "\n",
    "if((user_choice == 'Rock') and (computer_choice == 'Rock')or\n",
    "  (user_choice == 'Paper') and (computer_choice == 'Paper')or\n",
    "  (user_choice == 'Scissors') and (computer_choice == 'Scissors')):\n",
    "    print('Tie!')\n",
    "elif(user_choice == 'Scissors') and (computer_choice == 'Rock'):\n",
    "    print('Computer Won!')\n",
    "elif(user_choice == 'Scissors') and (computer_choice == 'Paper'):\n",
    "    print('User Won!')\n",
    "elif(user_choice == 'Rock') and (computer_choice == 'Scissors'):\n",
    "    print('User Won!')\n",
    "elif(user_choice == 'Rock') and (computer_choice == 'Paper'):\n",
    "    print('Computer Won!')\n",
    "elif(user_choice == 'Paper') and (computer_choice == 'Scissors'):\n",
    "    print('Computer Won')\n",
    "else:\n",
    "    print('computer Won!')"
   ]
  },
  {
   "cell_type": "code",
   "execution_count": 8,
   "id": "6650e1d8",
   "metadata": {},
   "outputs": [
    {
     "name": "stdout",
     "output_type": "stream",
     "text": [
      "Rock - Paper - Scissor\n",
      "Enter 'Rock' or 'Paper' or 'Scissors'Rock\n",
      "\n",
      "User choice = Rock\n",
      "Computer choice = Scissors\n",
      "User Won!\n",
      "Do you want to play again? - \"Yes\" or \"No\": Yes\n",
      "Rock - Paper - Scissor\n",
      "Enter 'Rock' or 'Paper' or 'Scissors'Paper\n",
      "\n",
      "User choice = Paper\n",
      "Computer choice = Paper\n",
      "Tie!\n",
      "Do you want to play again? - \"Yes\" or \"No\": Yes\n",
      "Rock - Paper - Scissor\n",
      "Enter 'Rock' or 'Paper' or 'Scissors'Rock\n",
      "\n",
      "User choice = Rock\n",
      "Computer choice = Rock\n",
      "Tie!\n",
      "Do you want to play again? - \"Yes\" or \"No\": No\n",
      "Matches Stats\n",
      "Matches Played - 3\n",
      "User Win Count - 1\n",
      "Computer Win Count - 0\n",
      "Tie Count - 2\n"
     ]
    }
   ],
   "source": [
    "playmore =1\n",
    "matches_played = 0\n",
    "user_win_count = 0\n",
    "computer_win_count = 0\n",
    "tie_count= 0\n",
    "while(playmore == 1):\n",
    "    matches_played +=1\n",
    "    print('Rock - Paper - Scissor')\n",
    "    user_choice = input(\"Enter 'Rock' or 'Paper' or 'Scissors'\")\n",
    "    computer_choice = np.random.randint(3)\n",
    "    if(computer_choice == 0):\n",
    "        computer_choice = 'Rock'\n",
    "    elif(computer_choice == 1):\n",
    "        computer_choice = 'Paper'\n",
    "    else:\n",
    "        computer_choice = 'Scissors'\n",
    "    print()\n",
    "    print(f\"User choice = {user_choice}\")\n",
    "    print(f\"Computer choice = {computer_choice}\")\n",
    "\n",
    "    if((user_choice == 'Rock') and (computer_choice == 'Rock')or\n",
    "      (user_choice == 'Paper') and (computer_choice == 'Paper')or\n",
    "      (user_choice == 'Scissors') and (computer_choice == 'Scissors')):\n",
    "        print('Tie!')\n",
    "        tie_count +=1\n",
    "    elif(user_choice == 'Scissors') and (computer_choice == 'Rock'):\n",
    "        print('Computer Won!')\n",
    "        computer_win_count +=1\n",
    "    elif(user_choice == 'Scissors') and (computer_choice == 'Paper'):\n",
    "        print('User Won!')\n",
    "        user_win_count +=1\n",
    "    elif(user_choice == 'Rock') and (computer_choice == 'Scissors'):\n",
    "        print('User Won!')\n",
    "        user_win_count +=1\n",
    "    elif(user_choice == 'Rock') and (computer_choice == 'Paper'):\n",
    "        print('Computer Won!')\n",
    "        computer_win_count +=1\n",
    "    elif(user_choice == 'Paper') and (computer_choice == 'Scissors'):\n",
    "        print('Computer Won')\n",
    "        computer_win_count +=1\n",
    "    else:\n",
    "        print('computer Won!')\n",
    "        computer_win_count +=1\n",
    "    replay_status = input('Do you want to play again? - \"Yes\" or \"No\": ')\n",
    "    if(replay_status == 'No'):\n",
    "        print(f'Matches Stats\\nMatches Played - {matches_played}\\nUser Win Count - {user_win_count}\\nComputer Win Count - {computer_win_count}\\nTie Count - {tie_count}')\n",
    "        playmore = 0"
   ]
  },
  {
   "cell_type": "code",
   "execution_count": null,
   "id": "935d9e7a",
   "metadata": {},
   "outputs": [],
   "source": []
  }
 ],
 "metadata": {
  "kernelspec": {
   "display_name": "Python 3 (ipykernel)",
   "language": "python",
   "name": "python3"
  },
  "language_info": {
   "codemirror_mode": {
    "name": "ipython",
    "version": 3
   },
   "file_extension": ".py",
   "mimetype": "text/x-python",
   "name": "python",
   "nbconvert_exporter": "python",
   "pygments_lexer": "ipython3",
   "version": "3.9.12"
  }
 },
 "nbformat": 4,
 "nbformat_minor": 5
}
